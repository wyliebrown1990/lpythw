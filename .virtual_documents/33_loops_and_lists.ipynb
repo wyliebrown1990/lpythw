#in simple terms, a for-loop in Python helps you repeat a task for each item in a collection, 
#making it easier to work with multiple pieces of data without having to write the same code over and over again.

the_count = [1, 2, 3, 4, 5]
fruits = ['apples', 'oranges', 'pears', 'apricots']
change = [1, 'pennies', 2, 'dimes', 3, 'quarters']

#this first kind of for loop goes through a list. 
#I think of it like, "for each number in the list calle "the_count" print a string with the current number, then repeat in order until the list is completed. 
for number in the_count:
    print(f"This is count {number}")

#same as above
for fruit in fruits:
    print(f"A fruit of type: {fruit}")

#also we can go through mixed lists too
for i in change:
    print(f"I got {i}")

#we can also build lists. First start with an empty one.
elements = []

#then use the range() function to do 0 to 5 counts.
#a range defines where to start and stop in a list but remember the "stop" is -1 before and the start is 0 (not 1)
for i in range(0, 6):
    print(f"Adding {i} to the list")
    #append is a function that lists understand
    elements.append(i)

for i in elements:
    print(f"Element was: {i}")

from dis import dis

dis('''
for number in the_count:
    print(number)
''')



