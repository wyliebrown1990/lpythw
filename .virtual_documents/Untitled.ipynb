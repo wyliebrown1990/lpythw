for num in range(1, 6):
    print(num)  # Prints numbers from 1 to 5




