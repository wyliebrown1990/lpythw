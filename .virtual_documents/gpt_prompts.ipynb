#Prompt: Write a Python program that simulates a simple guessing game. 
#The program should generate a random number between 1 and 100 (inclusive). 
#Then, it should repeatedly prompt the user to guess the number. 
#After each guess, the program should provide feedback to the user indicating whether the guess is too high, too low, or correct. 
#The game should continue until the user correctly guesses the number. Use a while loop to implement the game.

#Step 1: generate a random number between 1 and 100 (inclusive)
#Step 2: input from user a number (integer)
#Step 3: print feedback to user about whether guess is too high, too low, or correct
#Step 4: Continue prompting guesses until number guessed is correct

#library for random results
import random

# Step 1: Generate a random number between 1 and 100 (inclusive)
random_number = random.randint(1, 100)

# Step 3: Print feedback to user about whether guess is too high, too low, or correct
while True:
    # Input from the user a number (integer)
    users_guess = int(input("Give me a random number between 0 and 100: "))
    if users_guess < random_number:
        print("Sorry your guess is lower than what I'm thinking")
    elif users_guess > random_number:
        print("Sorry your guess is higher than what I'm thinking")
    else:
        print("That's it you got it!")
        break





#Task: Create a Temperature Converter
#You're going to write a program that converts temperatures from Celsius to Fahrenheit for a list of Celsius temperatures. 
#This program will be your first step towards mastering the art of looping through sequences in Python.

# List of temperatures in Celsius
celsius_temperatures = [6, 100, 12, -40, 15]

# Creating a function to handle the conversion work
def celsius_converter(celsius):
    fahrenheit = (celsius * 9/5) + 32
    return fahrenheit

# Creating a for loop to run through the list using the converter function
for element in celsius_temperatures:
    # Convert the current element from Celsius to Fahrenheit
    fahrenheit = celsius_converter(element)
    # Print the conversion in a formatted manner
    print(f"{element}°C is {fahrenheit}°F.")


'''
Task: The Palindrome Detector
Your mission, should you choose to embrace it, involves creating a tool of unparalleled utility in the realm of strings—a Palindrome Detector. 
Palindromes, as you might know, are words, phrases, or sequences of characters that read the same backward as forward, ignoring spaces, punctuation, and capitalization. 
Examples include "radar", "Madam, in Eden, I'm Adam", and "Able was I ere I saw Elba".

Requirements:
Sample Palindromes: First, create a list named sample_texts that contains at least five strings. 
Mix it up with some palindromes and some non-palindromes to test your function's discerning eye.

The Palindrome Function: Craft a function named is_palindrome that takes a single string argument. 
This function will return True if the string is a palindrome and False otherwise.

Normalization: Inside your function, ensure you remove spaces and convert the string to lower case to ensure accuracy regardless of input format.

Reversal Check: Compare the normalized string to its reverse to determine if it's a palindrome.

The For Loop: Use a for loop to iterate over each string in your sample_texts list, passing each one to your is_palindrome function.

Reporting: For each string, print a message stating whether it is a palindrome.
'''

sample_texts = ["dodge", "madam", "bullet", "radar", "now"]

def is_palindrome(text):
    word = str(text).lower().replace(" ", "") #ensure you remove spaces and convert the string to lower case to ensure accuracy regardless of input format.
    backwards_word = word[ : : -1]
    return backwards_word == word

for element in sample_texts:
    if is_palindrome(element):
        print("True")
    else:
        print("False")


#count my pushups from earlier

reps = [40, 30, 40, 30, 39, 29, 30]
count = 0

for element in reps:
    count = count + element

print(count)


#Write a Python program that simulates counting sheep to fall asleep. 
#Your program should use a while loop to print out the message "Sheep [number] jumped over the fence." 
#Replace [number] with the actual number of the sheep, starting from 1. 
#Your loop should run until 10 sheep have jumped over the fence. 
#After the loop finishes, print out the message "Zzzz... Goodnight!"

sheep = 1 #initialize the sheep variable starting at 1

while sheep <= 10:
    print(f"Sheep {sheep} jumped over the fence.")
    sheep += 1

print("Zzzz... Goodnight!")



