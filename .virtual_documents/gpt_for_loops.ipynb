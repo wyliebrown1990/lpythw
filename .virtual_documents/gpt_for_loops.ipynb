#Prompt: Write a Python program that takes a list of numbers as input and calculates the sum of all the even numbers in the list. 
#Use a for loop to iterate through the list.

list = [int(x) for x in input("give me some numbers with spacesin between each fill number: ").split()]
even_sum = 0

for number in list:
    if number % 2 == 0:
        even_sum += number
print(even_sum)


#Prompt: Write a Python program that prints each element of a list one by one, using a for loop.

fruit = ['apples', 'bananas', 'oranges', 'kumquat']

for element in fruit:
    print(element)


#Prompt: Write a Python program that uses a while loop to print numbers from 1 to 10.

#initialize element starting with a value of 1
element = 1

while element <= 10: #loops until element is less than or equal to 10
    print(element)
    element += 1


#Prompt: Write a Python program that uses a for loop to print the first 5 multiples of 3.

#Initialize the counter
count = 0

for num in range(1, 16): #This iterates through numbers 1 to 15
    if num % 3 == 0: #checks if the number is a multiple of 3
        print(num) #print the number)
        count += 1 #increment the counter
    if count == 5: #check if 5 multiples have been printed
        break #stops the for loop


#only print even numbers between 1 and 10

for num in range(1, 11):
    if num % 2 == 0:
        print(num)


#Prompt: Write a Python program that uses a while loop to print the first 5 positive integers (1, 2, 3, 4, 5) in reverse order.
numbers = 5

while numbers >= 1:
    print(numbers)
    numbers -= 1



