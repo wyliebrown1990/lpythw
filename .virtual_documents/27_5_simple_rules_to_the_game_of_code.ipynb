#RULE 1: Everything is a sequence of instructions
x = 10
y = 20
z = x + y

#the sequence can be explained below: 
#LOAD_CONST   0 (10) # load the number 10
#STORE_NAME   0 (x)  # store that in x

#LOAD_CONST   1 (20) # load the number 20
#STORE_NAME   1 (y)  # store that in y

#LOAD_NAME    0 (x)  # loads x (which is 10)
#LOAD_NAME    1 (y)  # loads y (which is 20)
#BINARY_ADD          # adds those
#STORE_NAME   2 (z)  # store the result in z
print(z)

from dis import dis
dis('''
x = 10
y = 20
z = x + y
''')


#RULE 2: Jumps makes the sequence non-linear
#technically a JUMP instruction is simply telling the computer to process a different instruction in the sequence. 
#It can be the next one, a previous one, or one in the future.
from dis import dis
dis("while True: x = 10")


#RULE 3: Tests control jumps. 

dis('''
x = -1
if x > 0:
    y = 10
''')


#RULE 4: Storage controls tests


#RULE 5: Input/Output controls storage
from dis import dis
dis("input('Yes? ')")



x = not False
print(x)


x = True or False
print(x)



