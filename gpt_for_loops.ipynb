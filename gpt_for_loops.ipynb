{
 "cells": [
  {
   "cell_type": "code",
   "execution_count": 20,
   "id": "04440963-002b-4f8c-8779-72260ef14e78",
   "metadata": {},
   "outputs": [
    {
     "name": "stdin",
     "output_type": "stream",
     "text": [
      "give me some numbers with spacesin between each fill number:  1 2 3 4 5 6 7 8\n"
     ]
    },
    {
     "name": "stdout",
     "output_type": "stream",
     "text": [
      "20\n"
     ]
    }
   ],
   "source": [
    "#Prompt: Write a Python program that takes a list of numbers as input and calculates the sum of all the even numbers in the list. \n",
    "#Use a for loop to iterate through the list.\n",
    "\n",
    "list = [int(x) for x in input(\"give me some numbers with spaces inbetween each fill number: \").split()]\n",
    "even_sum = 0\n",
    "\n",
    "for number in list:\n",
    "    if number % 2 == 0:\n",
    "        even_sum += number\n",
    "print(even_sum)"
   ]
  },
  {
   "cell_type": "code",
   "execution_count": 21,
   "id": "1733d74c-4bea-4c69-8f3b-f2949d312bcc",
   "metadata": {},
   "outputs": [
    {
     "name": "stdout",
     "output_type": "stream",
     "text": [
      "apples\n",
      "bananas\n",
      "oranges\n",
      "kumquat\n"
     ]
    }
   ],
   "source": [
    "#Prompt: Write a Python program that prints each element of a list one by one, using a for loop.\n",
    "\n",
    "fruit = ['apples', 'bananas', 'oranges', 'kumquat']\n",
    "\n",
    "for element in fruit:\n",
    "    print(element)"
   ]
  },
  {
   "cell_type": "code",
   "execution_count": 1,
   "id": "656a4848-9f81-4830-bd38-f68e249e9814",
   "metadata": {},
   "outputs": [
    {
     "name": "stdout",
     "output_type": "stream",
     "text": [
      "1\n",
      "2\n",
      "3\n",
      "4\n",
      "5\n",
      "6\n",
      "7\n",
      "8\n",
      "9\n",
      "10\n"
     ]
    }
   ],
   "source": [
    "#Prompt: Write a Python program that uses a while loop to print numbers from 1 to 10.\n",
    "\n",
    "#initialize element starting with a value of 1\n",
    "element = 1\n",
    "\n",
    "while element <= 10: #loops until element is less than or equal to 10\n",
    "    print(element)\n",
    "    element += 1"
   ]
  },
  {
   "cell_type": "code",
   "execution_count": 1,
   "id": "1f130f94-963b-4a84-b46d-74e9eeac81e2",
   "metadata": {},
   "outputs": [
    {
     "name": "stdout",
     "output_type": "stream",
     "text": [
      "3\n",
      "6\n",
      "9\n",
      "12\n",
      "15\n"
     ]
    }
   ],
   "source": [
    "#Prompt: Write a Python program that uses a for loop to print the first 5 multiples of 3.\n",
    "\n",
    "#Initialize the counter\n",
    "count = 0\n",
    "\n",
    "for num in range(1, 16): #This iterates through numbers 1 to 15\n",
    "    if num % 3 == 0: #checks if the number is a multiple of 3\n",
    "        print(num) #print the number)\n",
    "        count += 1 #increment the counter\n",
    "    if count == 5: #check if 5 multiples have been printed\n",
    "        break #stops the for loop"
   ]
  },
  {
   "cell_type": "code",
   "execution_count": 2,
   "id": "e4483e56-b0ff-4e6d-ba44-4864986c3dc5",
   "metadata": {},
   "outputs": [
    {
     "name": "stdout",
     "output_type": "stream",
     "text": [
      "2\n",
      "4\n",
      "6\n",
      "8\n",
      "10\n"
     ]
    }
   ],
   "source": [
    "#only print even numbers between 1 and 10\n",
    "\n",
    "for num in range(1, 11):\n",
    "    if num % 2 == 0:\n",
    "        print(num)"
   ]
  },
  {
   "cell_type": "code",
   "execution_count": 7,
   "id": "69d309ea-34b1-4ccd-ad12-1fa3f3a0e244",
   "metadata": {},
   "outputs": [
    {
     "name": "stdout",
     "output_type": "stream",
     "text": [
      "5\n",
      "4\n",
      "3\n",
      "2\n",
      "1\n"
     ]
    }
   ],
   "source": [
    "#Prompt: Write a Python program that uses a while loop to print the first 5 positive integers (1, 2, 3, 4, 5) in reverse order.\n",
    "numbers = 5\n",
    "\n",
    "while numbers >= 1:\n",
    "    print(numbers)\n",
    "    numbers -= 1"
   ]
  },
  {
   "cell_type": "code",
   "execution_count": 18,
   "id": "e2ea0677-46b6-44b0-b7d1-a2e1010d8bb7",
   "metadata": {},
   "outputs": [
    {
     "name": "stdin",
     "output_type": "stream",
     "text": [
      "Please provide space separated letters:  a b c d e\n"
     ]
    },
    {
     "name": "stdout",
     "output_type": "stream",
     "text": [
      "['a', 'b', 'c', 'd', 'e']\n",
      "2\n"
     ]
    }
   ],
   "source": [
    "#Prompt: Write a Python program that takes a string as input from the user and counts the number of vowels (a, e, i, o, u) in the string. \n",
    "#Use a for loop to iterate through each character in the string.\n",
    "\n",
    "letters_list = input(\"Please provide space separated letters: \").split()\n",
    "print(letters_list)\n",
    "count = 0\n",
    "\n",
    "for element in letters_list:\n",
    "    if element == 'a' or element == 'e' or element == 'i' or element == 'u':\n",
    "        count += 1\n",
    "    else:\n",
    "        pass\n",
    "print(count)"
   ]
  },
  {
   "cell_type": "code",
   "execution_count": 1,
   "id": "84dab463-e6d2-46ed-af90-f7f09ba2c07b",
   "metadata": {},
   "outputs": [
    {
     "name": "stdin",
     "output_type": "stream",
     "text": [
      "Give me a random number between 0 and 100:  55\n"
     ]
    }
   ],
   "source": [
    "#Prompt: Write a Python program that simulates a simple guessing game. \n",
    "#The program should generate a random number between 1 and 100 (inclusive). \n",
    "#Then, it should repeatedly prompt the user to guess the number. \n",
    "#After each guess, the program should provide feedback to the user indicating whether the guess is too high, too low, or correct. \n",
    "#The game should continue until the user correctly guesses the number. Use a while loop to implement the game.\n",
    "\n",
    "#Step 1: generate a random number between 1 and 100 (inclusive)\n",
    "#Step 2: input from user a number (integer)\n",
    "#Step 3: print feedback to user about whether guess is too high, too low, or correct\n",
    "#Step 4: Continue prompting guesses until number guessed is correct\n",
    "\n",
    "#library for random results\n",
    "import random\n",
    "\n",
    "#Step 1: generate a random number between 1 and 100 (inclusive)\n",
    "random_number = random.randint(1, 100)\n",
    "#Step 2: input from user a number (integer)\n",
    "users_guess = int(input(\"Give me a random number between 0 and 100: \"))\n",
    "\n",
    "#Step 3: print feedback to user about whether guess is too high, too low, or correct\n",
    "while users_guess < random_number:\n",
    "    print(\"Sorry your guess is lower than what I'm thinking\")\n",
    "    users_guess = int(input(\"try again: \"))\n",
    "    if users_guess > random_number:\n",
    "        print(\"Sorry your guess is higher than what I'm thinking\", input(\"try again: \"))\n",
    "        users_guess = int(input(\"try again: \"))\n",
    "    elif users_guess == random_number:\n",
    "        print(\"That's it you got it!\")\n",
    "    else:\n",
    "        break"
   ]
  },
  {
   "cell_type": "code",
   "execution_count": null,
   "id": "8be6239c-4114-47d4-8be5-3cee60348432",
   "metadata": {},
   "outputs": [],
   "source": []
  }
 ],
 "metadata": {
  "kernelspec": {
   "display_name": "Python 3 (ipykernel)",
   "language": "python",
   "name": "python3"
  },
  "language_info": {
   "codemirror_mode": {
    "name": "ipython",
    "version": 3
   },
   "file_extension": ".py",
   "mimetype": "text/x-python",
   "name": "python",
   "nbconvert_exporter": "python",
   "pygments_lexer": "ipython3",
   "version": "3.11.7"
  }
 },
 "nbformat": 4,
 "nbformat_minor": 5
}
