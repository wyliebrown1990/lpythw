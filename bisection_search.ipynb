{
 "cells": [
  {
   "cell_type": "code",
   "execution_count": 5,
   "id": "78630174-0d5d-4af2-b247-3e4c1d6dd3b5",
   "metadata": {},
   "outputs": [
    {
     "name": "stdout",
     "output_type": "stream",
     "text": [
      "num_guesses =  14\n",
      "3.000091552734375 is close to the cube root of  27\n"
     ]
    }
   ],
   "source": [
    "#eliminate half of your search space each guess\n",
    "#code only works for positive cubes and cubes > 1\n",
    "#start by initializing: \n",
    "cube = 27\n",
    "epsilon = .01\n",
    "num_guesses = 0\n",
    "low = 0\n",
    "high = cube\n",
    "\n",
    "guess = (high + low) / 2.0\n",
    "while abs(guess**3 - cube) >= epsilon:\n",
    "    if guess**3 < cube:\n",
    "        low = guess\n",
    "    else:\n",
    "        high = guess\n",
    "    guess = (high + low) / 2.0\n",
    "    num_guesses += 1\n",
    "print('num_guesses = ', num_guesses)\n",
    "print(guess, 'is close to the cube root of ', cube)"
   ]
  },
  {
   "cell_type": "code",
   "execution_count": null,
   "id": "4ea3d978-91f3-44a9-90f0-c71569244a0b",
   "metadata": {},
   "outputs": [],
   "source": []
  }
 ],
 "metadata": {
  "kernelspec": {
   "display_name": "Python 3 (ipykernel)",
   "language": "python",
   "name": "python3"
  },
  "language_info": {
   "codemirror_mode": {
    "name": "ipython",
    "version": 3
   },
   "file_extension": ".py",
   "mimetype": "text/x-python",
   "name": "python",
   "nbconvert_exporter": "python",
   "pygments_lexer": "ipython3",
   "version": "3.11.7"
  }
 },
 "nbformat": 4,
 "nbformat_minor": 5
}
