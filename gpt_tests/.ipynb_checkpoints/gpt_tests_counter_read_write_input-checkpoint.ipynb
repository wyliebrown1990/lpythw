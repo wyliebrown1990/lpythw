{
 "cells": [
  {
   "cell_type": "code",
   "execution_count": 32,
   "id": "af5bd424-681f-4f0f-8555-436fb3745d05",
   "metadata": {},
   "outputs": [
    {
     "name": "stdout",
     "output_type": "stream",
     "text": [
      "Hello! I would like to get to know you better.\n",
      "Please tell me your name.\n"
     ]
    },
    {
     "name": "stdin",
     "output_type": "stream",
     "text": [
      "name:  wylie\n"
     ]
    },
    {
     "name": "stdout",
     "output_type": "stream",
     "text": [
      "It's nice to meet you wylie\n",
      "Can you also tell me your age?\n"
     ]
    },
    {
     "name": "stdin",
     "output_type": "stream",
     "text": [
      "age:  33\n"
     ]
    },
    {
     "name": "stdout",
     "output_type": "stream",
     "text": [
      "Thanks wylie You are 33 and you will be 43 in 10 years\n"
     ]
    }
   ],
   "source": [
    "#GPT Prompt 1: Write a Python program that prompts the user to enter their name and age, and then prints out a message greeting the user and telling them how old they will be in 10 years. Make sure to format the output message neatly.\n",
    "print(\"Hello! I would like to get to know you better.\")\n",
    "print(\"Please tell me your name.\")\n",
    "name = input(\"name: \")\n",
    "\n",
    "print(\"It's nice to meet you\", name)\n",
    "\n",
    "print(\"Can you also tell me your age?\")\n",
    "age = input(\"age: \")\n",
    "\n",
    "print(\"Thanks\", name, \"You are\", age, \"and you will be\", (int(age) + 10), \"in 10 years\")"
   ]
  },
  {
   "cell_type": "code",
   "execution_count": 33,
   "id": "7dc1cd49-9a41-4bf7-b93d-52284db28a41",
   "metadata": {},
   "outputs": [],
   "source": [
    "#GPT sent back this optimization: "
   ]
  },
  {
   "cell_type": "code",
   "execution_count": 34,
   "id": "3d30a30a-f2e6-438a-8ae6-a6fc72c5a830",
   "metadata": {},
   "outputs": [
    {
     "name": "stdout",
     "output_type": "stream",
     "text": [
      "Hello! I would like to get to know you better.\n",
      "Please tell me your name.\n"
     ]
    },
    {
     "name": "stdin",
     "output_type": "stream",
     "text": [
      "name:  wylie\n"
     ]
    },
    {
     "name": "stdout",
     "output_type": "stream",
     "text": [
      "It's nice to meet you, wylie.\n",
      "Can you also tell me your age?\n"
     ]
    },
    {
     "name": "stdin",
     "output_type": "stream",
     "text": [
      "age:  33\n"
     ]
    },
    {
     "name": "stdout",
     "output_type": "stream",
     "text": [
      "Thanks, wylie. You are 33 years old and you will be 43 in 10 years.\n"
     ]
    }
   ],
   "source": [
    "print(\"Hello! I would like to get to know you better.\")\n",
    "print(\"Please tell me your name.\")\n",
    "name = input(\"name: \")\n",
    "\n",
    "print(f\"It's nice to meet you, {name}.\")\n",
    "\n",
    "print(\"Can you also tell me your age?\")\n",
    "age = int(input(\"age: \"))\n",
    "\n",
    "print(f\"Thanks, {name}. You are {age} years old and you will be {age + 10} in 10 years.\")"
   ]
  },
  {
   "cell_type": "code",
   "execution_count": 61,
   "id": "d8047d6e-a518-46d8-96bf-5918038bc70e",
   "metadata": {},
   "outputs": [
    {
     "name": "stdout",
     "output_type": "stream",
     "text": [
      "Hi there! Please provide a sentence for me to analyze.\n"
     ]
    },
    {
     "name": "stdin",
     "output_type": "stream",
     "text": [
      "type here:  Cyrus likes to build things with his new tools. Cyrus is a good boy. Cyrus.\n"
     ]
    },
    {
     "name": "stdout",
     "output_type": "stream",
     "text": [
      "This is your sentence: Cyrus likes to build things with his new tools. Cyrus is a good boy. Cyrus.\n",
      "Output:\n",
      "Number of words in: 15\n",
      "Number of unique words: 14\n",
      "Most frequent words:\n",
      "'Cyrus' appears 2 time(s)\n",
      "'likes' appears 1 time(s)\n",
      "'to' appears 1 time(s)\n",
      "'build' appears 1 time(s)\n",
      "'things' appears 1 time(s)\n",
      "'with' appears 1 time(s)\n",
      "'his' appears 1 time(s)\n",
      "'new' appears 1 time(s)\n",
      "'tools.' appears 1 time(s)\n",
      "'is' appears 1 time(s)\n",
      "'a' appears 1 time(s)\n",
      "'good' appears 1 time(s)\n",
      "'boy.' appears 1 time(s)\n",
      "'Cyrus.' appears 1 time(s)\n"
     ]
    }
   ],
   "source": [
    "#GPT Prompt 2: Write a Python program that takes a sentence input from the user and then prints out a summary of the sentence. The summary should include the following:\n",
    "#1 The total number of words in the sentence.\n",
    "#2 The number of unique words in the sentence.\n",
    "#3 The most frequent word(s) in the sentence and their count(s).\n",
    "\n",
    "from collections import Counter\n",
    "\n",
    "print(\"Hi there! Please provide a sentence for me to analyze.\")\n",
    "sentence = input(\"type here: \")\n",
    "\n",
    "split_words = sentence.split()\n",
    "number_of_words = len(split_words)\n",
    "list_unique_words = set(split_words)\n",
    "unique_words = len(list_unique_words)\n",
    "word_freq = Counter(split_words)\n",
    "\n",
    "most_common = word_freq.most_common()\n",
    "\n",
    "print(f\"This is your sentence: {sentence}\")\n",
    "print(\"Output:\")\n",
    "print(f\"Number of words in: {number_of_words}\")\n",
    "print(f\"Number of unique words: {unique_words}\")\n",
    "print(\"Most frequent words:\")\n",
    "for word, freq in most_common:\n",
    "    print(f\"'{word}' appears {freq} time(s)\")"
   ]
  },
  {
   "cell_type": "code",
   "execution_count": 17,
   "id": "f28e22e4-83d4-4ed0-9275-e9c9beb8b760",
   "metadata": {},
   "outputs": [
    {
     "name": "stdout",
     "output_type": "stream",
     "text": [
      "Output data has been written to: word_frequencies.txt\n"
     ]
    }
   ],
   "source": [
    "#GPT Prompt 3: Write a Python program that reads a text file named \"input.txt\" and counts the occurrences of each word in the file. \n",
    "#Then, write the word frequencies to another text file named \"word_frequencies.txt\". \n",
    "#Each line in \"word_frequencies.txt\" should contain a word and its corresponding frequency, separated by a space.\n",
    "\n",
    "from collections import Counter\n",
    "\n",
    "text_file = \"input.txt\"\n",
    "text = open(text_file)\n",
    "\n",
    "word_freq = Counter(text)\n",
    "output_data = str(word_freq)  # Convert word_freq to a string\n",
    "\n",
    "output_file_name = \"word_frequencies.txt\"\n",
    "\n",
    "with open(output_file_name, 'w') as output_file:\n",
    "    output_file.write(output_data)  # Write output_data to the file\n",
    "\n",
    "print(\"Output data has been written to:\", output_file_name)\n"
   ]
  },
  {
   "cell_type": "code",
   "execution_count": 21,
   "id": "66f5f9a3-d2a5-4d96-a71c-9d94fe473ab9",
   "metadata": {},
   "outputs": [
    {
     "name": "stdin",
     "output_type": "stream",
     "text": [
      "Enter a number to check if it's prime:  18\n"
     ]
    },
    {
     "name": "stdout",
     "output_type": "stream",
     "text": [
      "18 is not prime\n"
     ]
    }
   ],
   "source": [
    "#Write a Python program that defines a function called check_prime which takes a single integer as input and returns True if the number is prime, and False otherwise. \n",
    "#Then, use this function to check whether a number provided by the user is prime or not.\n",
    "\n",
    "import math\n",
    "\n",
    "def is_prime(number):\n",
    "    if number <= 1:\n",
    "        return False\n",
    "    if number == 2:\n",
    "        return True\n",
    "    if number % 2 == 0:\n",
    "        return False\n",
    "    for i in range(3, int(math.sqrt(number)) + 1, 2):\n",
    "        if number % i == 0:\n",
    "            return False\n",
    "    return True\n",
    "\n",
    "number = int(input(\"Enter a number to check if it's prime: \"))\n",
    "if is_prime(number):\n",
    "    print(number, \"is prime\")\n",
    "else:\n",
    "    print(number, \"is not prime\")"
   ]
  },
  {
   "cell_type": "code",
   "execution_count": null,
   "id": "7827f10b-2da5-4e07-b584-663e02b34067",
   "metadata": {},
   "outputs": [],
   "source": []
  }
 ],
 "metadata": {
  "kernelspec": {
   "display_name": "Python 3 (ipykernel)",
   "language": "python",
   "name": "python3"
  },
  "language_info": {
   "codemirror_mode": {
    "name": "ipython",
    "version": 3
   },
   "file_extension": ".py",
   "mimetype": "text/x-python",
   "name": "python",
   "nbconvert_exporter": "python",
   "pygments_lexer": "ipython3",
   "version": "3.11.7"
  }
 },
 "nbformat": 4,
 "nbformat_minor": 5
}
