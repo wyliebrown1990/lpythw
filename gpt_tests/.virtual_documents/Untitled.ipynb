#GPT Prompt 1: Write a Python program that prompts the user to enter their name and age, and then prints out a message greeting the user and telling them how old they will be in 10 years. Make sure to format the output message neatly.
print("Hello! I would like to get to know you better.")
print("Please tell me your name.")
name = input("name: ")

print("It's nice to meet you", name)

print("Can you also tell me your age?")
age = input("age: ")

print("Thanks", name, "You are", age, "and you will be", (int(age) + 10), "in 10 years")


#GPT sent back this optimization: 


print("Hello! I would like to get to know you better.")
print("Please tell me your name.")
name = input("name: ")

print(f"It's nice to meet you, {name}.")

print("Can you also tell me your age?")
age = int(input("age: "))

print(f"Thanks, {name}. You are {age} years old and you will be {age + 10} in 10 years.")


#GPT Prompt 2: Write a Python program that takes a sentence input from the user and then prints out a summary of the sentence. The summary should include the following:
#1 The total number of words in the sentence.
#2 The number of unique words in the sentence.
#3 The most frequent word(s) in the sentence and their count(s).

print("Hi there! Please provide a sentence for me to analyze.")
sentence = input("type here: ")

number_of_words = len(sentence.split())
list_unique_words = set([sentence])
unique_words = len(list_unique_words)

print(f"This is your sentence: {sentence}")
print("Output:")
print({number_of_words})
print({unique_words})



