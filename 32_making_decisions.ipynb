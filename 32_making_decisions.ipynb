{
 "cells": [
  {
   "cell_type": "code",
   "execution_count": 1,
   "id": "55fbed31-678a-4ee0-bc63-997149fb2c1e",
   "metadata": {},
   "outputs": [
    {
     "name": "stdout",
     "output_type": "stream",
     "text": [
      "You enter a dark rooom with two doors.\n",
      "Do you go through door #1 or door #2?\n"
     ]
    },
    {
     "name": "stdin",
     "output_type": "stream",
     "text": [
      ">  3\n"
     ]
    },
    {
     "name": "stdout",
     "output_type": "stream",
     "text": [
      "You stumble around and fall on a knife and die. Good job!\n"
     ]
    }
   ],
   "source": [
    "print(\"\"\"You enter a dark rooom with two doors.\n",
    "Do you go through door #1 or door #2?\"\"\")\n",
    "\n",
    "door = input(\"> \")\n",
    "\n",
    "if door == \"1\":\n",
    "    print(\"There's a giant bear here eating cake.\")\n",
    "    print(\"What do you do?\")\n",
    "    print(\"1. Take the cake\")\n",
    "    print(\"2. Scream at the bear!\")\n",
    "\n",
    "    bear = input(\"> \")\n",
    "\n",
    "    if bear == \"1\":\n",
    "        print(\"The bear eats your face off. Good job!\")\n",
    "    elif bear == \"2\":\n",
    "        print(\"The bear eats your legs off. Good job!\")\n",
    "    else:\n",
    "        print(f\"Well, doing {bear} is probably better\")\n",
    "        print(\"Bear runs away\")\n",
    "\n",
    "elif door == \"2\":\n",
    "    print(\"You stare into the endless abyss at Cthulhu's retina.\")\n",
    "    print(\"1. Blueberries.\")\n",
    "    print(\"2. Yellow jacket clothespins.\")\n",
    "    print(\"3. Understanding revolvers yelling melodies.\")\n",
    "\n",
    "    insanity = input(\"> \")\n",
    "\n",
    "    if insanity == \"1\" or insanity == \"2\":\n",
    "        print(\"Your body survives powered by a mind of jello.\")\n",
    "        print(\"Good job!\")\n",
    "    else:\n",
    "        print(\"The insanity rots your eyes into a pool of muck.\")\n",
    "        print(\"Good job!\")\n",
    "\n",
    "else:\n",
    "    print(\"You stumble around and fall on a knife and die. Good job!\")"
   ]
  },
  {
   "cell_type": "code",
   "execution_count": 14,
   "id": "c9a0c917-8a1e-4c5a-81ba-84ddcfa109cc",
   "metadata": {},
   "outputs": [
    {
     "name": "stdout",
     "output_type": "stream",
     "text": [
      "Welcome toooo the Price Is Right!\n",
      "Today we'll have you guessing on your favorite household items\n",
      "To start, do you want to guess on #1 Bedroom #2 Bathroom or #3 Kitchen items?\n"
     ]
    },
    {
     "name": "stdin",
     "output_type": "stream",
     "text": [
      ">  2\n"
     ]
    },
    {
     "name": "stdout",
     "output_type": "stream",
     "text": [
      "Oh we've got a sudzy bubbly boy, eh?\n",
      "How much is that Khiel's face scrub?\n"
     ]
    },
    {
     "name": "stdin",
     "output_type": "stream",
     "text": [
      "> $ 27\n"
     ]
    },
    {
     "name": "stdout",
     "output_type": "stream",
     "text": [
      "Woah there my dude, what are you loaded??\n"
     ]
    }
   ],
   "source": [
    "print(\"Welcome toooo the Price Is Right!\")\n",
    "print(\"Today we'll have you guessing on your favorite household items\")\n",
    "print(\"To start, do you want to guess on #1 Bedroom #2 Bathroom or #3 Kitchen items?\")\n",
    "\n",
    "item = input(\"> \")\n",
    "\n",
    "if item == \"1\" or item.lower() == \"bedroom\":\n",
    "    print(\"Oh we've got a cozy boy, eh?\")\n",
    "    print(\"How much is this Casper Memory Foam Mattress?\")\n",
    "\n",
    "    #convert user string input into an int\n",
    "    mattress = input(\"> $\")\n",
    "    int_mattress = int(mattress)\n",
    "\n",
    "    if int_mattress <= 599:\n",
    "        print(\"Sorry my guy, wishful thinking!\")\n",
    "    elif int_mattress <= 600:\n",
    "        print(\"Close but no cigar!\")\n",
    "    elif int_mattress >= 800:\n",
    "        print(\"Woah there my dude, what are you loaded??\")\n",
    "    else:\n",
    "        print(\"The price is right! Congrats you win a new Casper Foam Mattress!\")\n",
    "\n",
    "elif item == \"2\" or item.lower() == \"bathroom\":\n",
    "    print(\"Oh we've got a sudzy bubbly boy, eh?\")\n",
    "    print(\"How much is that Khiel's face scrub?\")\n",
    "\n",
    "    #convert user string input to an int\n",
    "    face_scrub = input(\"> $\")\n",
    "    int_face_scrub = int(face_scrub)\n",
    "\n",
    "    if int_face_scrub <= 5:\n",
    "        print(\"Sorry my guy, wishful thinking!\")\n",
    "    elif int_face_scrub <= 10:\n",
    "        print(\"Close but no cigar!\")\n",
    "    elif int_face_scrub >= 26:\n",
    "        print(\"Woah there my dude, what are you loaded??\")\n",
    "    else:\n",
    "        print(\"The price is right! Congrats you win a new Khiel's face scrub you dirty dog!\")\n",
    "\n",
    "else:\n",
    "    print(\"Oh we got a chef-boy-are-d do, eh?\")\n",
    "    print(\"How much is that Instapot?\")\n"
   ]
  },
  {
   "cell_type": "code",
   "execution_count": null,
   "id": "18af941c-c6b4-474a-8265-5a1ac0a4585b",
   "metadata": {},
   "outputs": [],
   "source": []
  }
 ],
 "metadata": {
  "kernelspec": {
   "display_name": "Python 3 (ipykernel)",
   "language": "python",
   "name": "python3"
  },
  "language_info": {
   "codemirror_mode": {
    "name": "ipython",
    "version": 3
   },
   "file_extension": ".py",
   "mimetype": "text/x-python",
   "name": "python",
   "nbconvert_exporter": "python",
   "pygments_lexer": "ipython3",
   "version": "3.11.7"
  }
 },
 "nbformat": 4,
 "nbformat_minor": 5
}
