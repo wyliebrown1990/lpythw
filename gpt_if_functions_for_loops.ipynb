{
 "cells": [
  {
   "cell_type": "code",
   "execution_count": 10,
   "id": "19ec6b7c-3a54-436b-9053-96129d8e1b9d",
   "metadata": {},
   "outputs": [
    {
     "name": "stdin",
     "output_type": "stream",
     "text": [
      "give me some numbers with spaces inbetween each fill number:  1 2 3 6 7 8 10\n"
     ]
    },
    {
     "name": "stdout",
     "output_type": "stream",
     "text": [
      "Count of even digits:  4\n"
     ]
    }
   ],
   "source": [
    "#Prompt: Write a Python function called count_even_digits that takes a list of integers as input and \n",
    "#returns the count of even digits in those integers. \n",
    "#Use if-statements, functions, and a for-loop.\n",
    "\n",
    "def count_even_digits(a):\n",
    "    global count #count has to be declared as globale variable \n",
    "    count = 0 #initialize count to 0\n",
    "    for num in a: #create for statement to iterate over elements in a variable\n",
    "        if num % 2 == 0: #check if the element in the a variable list is even\n",
    "            count += 1 #increase the count by 1 increment when if is True\n",
    "    return count #when complete return and save the count value\n",
    "\n",
    "a = [int(x) for x in input(\"give me some numbers with spaces inbetween each fill number: \").split()] #Need to capture input as an integer and then split into a list\n",
    "\n",
    "print(\"Count of even digits: \", count_even_digits(a)) #need to call the function you defined above "
   ]
  },
  {
   "cell_type": "code",
   "execution_count": null,
   "id": "9e9ce80e-2566-4c75-a4a7-7149ee0696a1",
   "metadata": {},
   "outputs": [],
   "source": []
  }
 ],
 "metadata": {
  "kernelspec": {
   "display_name": "Python 3 (ipykernel)",
   "language": "python",
   "name": "python3"
  },
  "language_info": {
   "codemirror_mode": {
    "name": "ipython",
    "version": 3
   },
   "file_extension": ".py",
   "mimetype": "text/x-python",
   "name": "python",
   "nbconvert_exporter": "python",
   "pygments_lexer": "ipython3",
   "version": "3.11.7"
  }
 },
 "nbformat": 4,
 "nbformat_minor": 5
}
