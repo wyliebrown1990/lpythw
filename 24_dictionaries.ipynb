{
 "cells": [
  {
   "cell_type": "code",
   "execution_count": 1,
   "id": "9531fccc-3def-4c18-be84-328062ce6777",
   "metadata": {},
   "outputs": [],
   "source": [
    "fruit = [\n",
    "    {'kind': 'Apples',  'count': 12, 'rating': 'AAA'},\n",
    "    {'kind': 'Oranges', 'count': 1,  'rating': 'B'},\n",
    "    {'kind': 'Pears',   'count': 2,  'rating': 'A'},\n",
    "    {'kind': 'Grapes',  'count': 14, 'rating': 'UR'}\n",
    "];\n",
    "\n",
    "cars = [\n",
    "    {'type': 'Cadillac', 'color': 'Black',\n",
    "     'size': 'Big', 'miles': 34500},\n",
    "    {'type': 'Corvette', 'color': 'Red',\n",
    "     'size': 'Little', 'miles': 1000000},\n",
    "    {'type': 'Ford', 'color': 'Blue',\n",
    "     'size': 'Medium', 'miles': 1234},\n",
    "    {'type': 'BMW', 'color': 'White',\n",
    "     'size': 'Baby', 'miles': 7890}\n",
    "];\n",
    "\n",
    "languages = [\n",
    "    {'name': 'Python', 'speed': 'Slow',\n",
    "     'opinion': ['Terrible', 'Much']},\n",
    "    {'name': 'JavaScript', 'speed': 'Moderate',\n",
    "     'opinion': ['Alright', 'Bizarre']},\n",
    "    {'name': 'Perl6', 'speed': 'Moderate',\n",
    "     'opinion': ['Fun', 'Weird']},\n",
    "    {'name': 'C', 'speed': 'Fast',\n",
    "     'opinion': ['Annoying', 'Dangerous']},\n",
    "    {'name': 'Forth', 'speed': 'Fast',\n",
    "     'opinion': ['Fun', 'Difficult']},\n",
    "];"
   ]
  },
  {
   "cell_type": "code",
   "execution_count": 27,
   "id": "ae112351-07ae-43ec-8365-a6a07c462a59",
   "metadata": {},
   "outputs": [
    {
     "name": "stdout",
     "output_type": "stream",
     "text": [
      "12\n",
      "AAA\n",
      "2\n",
      "Oranges\n",
      "Grapes\n",
      "14\n",
      "Apples\n",
      "Big\n",
      "Red\n",
      "1234\n",
      "White\n",
      "7890\n",
      "Black\n",
      "34500\n",
      "Blue\n",
      "Slow\n",
      "Alright\n",
      "Dangerous\n",
      "Fast\n",
      "Difficult\n",
      "Fun\n",
      "Annoying\n",
      "Weird\n",
      "Moderate\n"
     ]
    }
   ],
   "source": [
    "#Fruit\n",
    "print(fruit[0]['count'])\n",
    "print(fruit[0]['rating'])\n",
    "print(fruit[2]['count'])\n",
    "print(fruit[1]['kind'])\n",
    "print(fruit[3]['kind'])\n",
    "print(fruit[3]['count'])\n",
    "print(fruit[0]['kind'])\n",
    "#VROOM\n",
    "print(cars[0]['size'])\n",
    "print(cars[1]['color'])\n",
    "print(cars[2]['miles'])\n",
    "print(cars[3]['color'])\n",
    "print(cars[3]['miles'])\n",
    "print(cars[0]['color'])\n",
    "print(cars[0]['miles'])\n",
    "print(cars[2]['color'])\n",
    "#Language: \n",
    "print(languages[0]['speed'])\n",
    "print(languages[1]['opinion'][0])\n",
    "print(languages[3]['opinion'][1])\n",
    "print(languages[4]['speed'])\n",
    "print(languages[4]['opinion'][1])\n",
    "print(languages[4]['opinion'][0])\n",
    "print(languages[3]['opinion'][0])\n",
    "print(languages[2]['opinion'][1])\n",
    "print(languages[1]['speed'])"
   ]
  },
  {
   "cell_type": "code",
   "execution_count": 40,
   "id": "af53d9cc-84af-4bda-9d33-1400926c1243",
   "metadata": {},
   "outputs": [
    {
     "name": "stdout",
     "output_type": "stream",
     "text": [
      "Little Red Corvette Baby UR Mush 2 Fast\n"
     ]
    }
   ],
   "source": [
    "#Little red Corvette baby UR much 2 fast\n",
    "print(cars[1]['size'], cars[1]['color'], cars[1]['type'], cars[3]['size'], fruit[3]['rating'], languages[0]['opinion'][1], fruit[2]['count'], languages[3]['speed'])\n"
   ]
  },
  {
   "cell_type": "code",
   "execution_count": null,
   "id": "14565a77-16b7-49d2-9cfa-ac03af46486a",
   "metadata": {},
   "outputs": [],
   "source": []
  }
 ],
 "metadata": {
  "kernelspec": {
   "display_name": "Python 3 (ipykernel)",
   "language": "python",
   "name": "python3"
  },
  "language_info": {
   "codemirror_mode": {
    "name": "ipython",
    "version": 3
   },
   "file_extension": ".py",
   "mimetype": "text/x-python",
   "name": "python",
   "nbconvert_exporter": "python",
   "pygments_lexer": "ipython3",
   "version": "3.11.7"
  }
 },
 "nbformat": 4,
 "nbformat_minor": 5
}
