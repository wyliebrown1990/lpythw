{
 "cells": [
  {
   "cell_type": "code",
   "execution_count": 2,
   "id": "cbd0e6dd-e12e-4d00-9029-ef2c159b65ac",
   "metadata": {},
   "outputs": [
    {
     "name": "stdout",
     "output_type": "stream",
     "text": [
      "Copying from test.txt to new_test.txt.\n",
      "The input file is 12 bytes long\n",
      "Does the output file exist True\n",
      "Ready, Hit RETURN to continue, CTRL-C to abort.\n"
     ]
    },
    {
     "name": "stdin",
     "output_type": "stream",
     "text": [
      " \n"
     ]
    },
    {
     "name": "stdout",
     "output_type": "stream",
     "text": [
      "Alright. All done.\n"
     ]
    }
   ],
   "source": [
    "from os.path import exists\n",
    "\n",
    "from_file = \"test.txt\"\n",
    "to_file = \"new_test.txt\"\n",
    "\n",
    "print(f\"Copying from {from_file} to {to_file}.\")\n",
    "\n",
    "in_file = open(from_file)\n",
    "in_data = in_file.read()\n",
    "\n",
    "print(f\"The input file is {len(in_data)} bytes long\")\n",
    "print(f\"Does the output file exist {exists(to_file)}\")\n",
    "print(\"Ready, Hit RETURN to continue, CTRL-C to abort.\")\n",
    "input()\n",
    "\n",
    "out_file = open(to_file, 'w')\n",
    "out_file.write(in_data)\n",
    "\n",
    "print(\"Alright. All done.\")\n",
    "\n",
    "out_file.close()\n",
    "in_file.close()"
   ]
  },
  {
   "cell_type": "code",
   "execution_count": null,
   "id": "13f3780c-b46d-4693-af3b-89275e142992",
   "metadata": {},
   "outputs": [],
   "source": []
  }
 ],
 "metadata": {
  "kernelspec": {
   "display_name": "Python 3 (ipykernel)",
   "language": "python",
   "name": "python3"
  },
  "language_info": {
   "codemirror_mode": {
    "name": "ipython",
    "version": 3
   },
   "file_extension": ".py",
   "mimetype": "text/x-python",
   "name": "python",
   "nbconvert_exporter": "python",
   "pygments_lexer": "ipython3",
   "version": "3.11.7"
  }
 },
 "nbformat": 4,
 "nbformat_minor": 5
}
