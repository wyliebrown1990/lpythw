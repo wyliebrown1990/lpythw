{
 "cells": [
  {
   "cell_type": "code",
   "execution_count": 1,
   "id": "ff17d5a3-d5fb-4fc8-9f21-62d8ceb3404b",
   "metadata": {},
   "outputs": [
    {
     "name": "stdout",
     "output_type": "stream",
     "text": [
      "Too many cats! The world is doomed!\n",
      "The world is dry!\n",
      "People are greater than or equal to dogs!\n",
      "People are less than or equal to dogs!\n",
      "People are dogs\n"
     ]
    }
   ],
   "source": [
    "people = 20\n",
    "cats = 30\n",
    "dogs = 15\n",
    "\n",
    "if people < cats:\n",
    "    print(\"Too many cats! The world is doomed!\")\n",
    "\n",
    "if people > cats:\n",
    "    print(\"Not many cats! The world is saved!\")\n",
    "\n",
    "if people < dogs:\n",
    "    print(\"The world is drooled on!\")\n",
    "\n",
    "if people > dogs:\n",
    "    print(\"The world is dry!\")\n",
    "\n",
    "dogs += 5\n",
    "\n",
    "if people >= dogs:\n",
    "    print(\"People are greater than or equal to dogs!\")\n",
    "\n",
    "if people <= dogs:\n",
    "    print(\"People are less than or equal to dogs!\")\n",
    "\n",
    "if people == dogs:\n",
    "    print(\"People are dogs\")"
   ]
  },
  {
   "cell_type": "code",
   "execution_count": 2,
   "id": "7936d83f-ff4c-49d8-95cf-1b1d3fdb3678",
   "metadata": {},
   "outputs": [
    {
     "name": "stdout",
     "output_type": "stream",
     "text": [
      "  0           0 RESUME                   0\n",
      "\n",
      "  2           2 LOAD_NAME                0 (people)\n",
      "              4 LOAD_NAME                1 (cats)\n",
      "              6 COMPARE_OP               0 (<)\n",
      "             12 POP_JUMP_FORWARD_IF_FALSE    13 (to 40)\n",
      "\n",
      "  3          14 PUSH_NULL\n",
      "             16 LOAD_NAME                2 (print)\n",
      "             18 LOAD_CONST               0 ('Too many cats! The world is doomed!')\n",
      "             20 PRECALL                  1\n",
      "             24 CALL                     1\n",
      "             34 POP_TOP\n",
      "             36 LOAD_CONST               1 (None)\n",
      "             38 RETURN_VALUE\n",
      "\n",
      "  2     >>   40 LOAD_CONST               1 (None)\n",
      "             42 RETURN_VALUE\n"
     ]
    }
   ],
   "source": [
    "from dis import dis\n",
    "\n",
    "dis('''\n",
    "if people < cats:\n",
    "    print(\"Too many cats! The world is doomed!\")\n",
    "''')"
   ]
  },
  {
   "cell_type": "code",
   "execution_count": 3,
   "id": "2e2ec9be-55a2-44f8-9f8b-cf7edb4ab6fa",
   "metadata": {},
   "outputs": [
    {
     "ename": "IndentationError",
     "evalue": "expected an indented block after 'if' statement on line 5 (3044976746.py, line 6)",
     "output_type": "error",
     "traceback": [
      "\u001b[0;36m  Cell \u001b[0;32mIn[3], line 6\u001b[0;36m\u001b[0m\n\u001b[0;31m    print(\"Too many cats! The world is doomed!\")\u001b[0m\n\u001b[0m    ^\u001b[0m\n\u001b[0;31mIndentationError\u001b[0m\u001b[0;31m:\u001b[0m expected an indented block after 'if' statement on line 5\n"
     ]
    }
   ],
   "source": [
    "people = 20\n",
    "cats = 30\n",
    "dogs = 15\n",
    "\n",
    "if people < cats:\n",
    "print(\"Too many cats! The world is doomed!\")"
   ]
  },
  {
   "cell_type": "code",
   "execution_count": null,
   "id": "344c1302-a33e-4a64-a1c4-0afc2a20bda5",
   "metadata": {},
   "outputs": [],
   "source": []
  }
 ],
 "metadata": {
  "kernelspec": {
   "display_name": "Python 3 (ipykernel)",
   "language": "python",
   "name": "python3"
  },
  "language_info": {
   "codemirror_mode": {
    "name": "ipython",
    "version": 3
   },
   "file_extension": ".py",
   "mimetype": "text/x-python",
   "name": "python",
   "nbconvert_exporter": "python",
   "pygments_lexer": "ipython3",
   "version": "3.11.7"
  }
 },
 "nbformat": 4,
 "nbformat_minor": 5
}
