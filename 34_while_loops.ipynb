{
 "cells": [
  {
   "cell_type": "code",
   "execution_count": 18,
   "id": "94a7d9b5-0295-400f-ac60-17a379340729",
   "metadata": {},
   "outputs": [
    {
     "name": "stdout",
     "output_type": "stream",
     "text": [
      "At the top i is 0\n",
      "\n",
      "Numbers now:  [0] \n",
      "\n",
      "at the bottom i is 1\n",
      "\n",
      "At the top i is 1\n",
      "\n",
      "Numbers now:  [0, 1] \n",
      "\n",
      "at the bottom i is 2\n",
      "\n",
      "At the top i is 2\n",
      "\n",
      "Numbers now:  [0, 1, 2] \n",
      "\n",
      "at the bottom i is 3\n",
      "\n",
      "At the top i is 3\n",
      "\n",
      "Numbers now:  [0, 1, 2, 3] \n",
      "\n",
      "at the bottom i is 4\n",
      "\n",
      "At the top i is 4\n",
      "\n",
      "Numbers now:  [0, 1, 2, 3, 4] \n",
      "\n",
      "at the bottom i is 5\n",
      "\n",
      "At the top i is 5\n",
      "\n",
      "Numbers now:  [0, 1, 2, 3, 4, 5] \n",
      "\n",
      "at the bottom i is 6\n",
      "\n",
      "The numbers: \n",
      "0\n",
      "1\n",
      "2\n",
      "3\n",
      "4\n",
      "5\n"
     ]
    }
   ],
   "source": [
    "#initialize i with 0\n",
    "i = 0\n",
    "#create a blank list called numbers\n",
    "numbers = []\n",
    "\n",
    "#create a while loop so that when i < 6 is True we print some text, show the current i variable and append i to numbers list.\n",
    "while i < 6:\n",
    "    print(f\"At the top i is {i}\\n\")\n",
    "    numbers.append(i)\n",
    "#Then update i to be 1 integer higher and print the new numbers list and new i variable\n",
    "    i = i + 1\n",
    "    print(\"Numbers now: \", numbers, \"\\n\")\n",
    "    print(f\"at the bottom i is {i}\\n\")\n",
    "#print a header \n",
    "print(\"The numbers: \")\n",
    "#use a for loop to print out all of the values in your numbers list\n",
    "for num in numbers:\n",
    "    print(num)"
   ]
  },
  {
   "cell_type": "code",
   "execution_count": 8,
   "id": "bcbed74b-b8b7-429b-8cee-c562d8dcd362",
   "metadata": {},
   "outputs": [],
   "source": [
    "#Convert this while-loop to a function that you can call, and replace 6 in the test (i < 6) with a variable.\n",
    "#Add another variable to the function arguments that you can pass in that lets you change the + 1 on line 8 so you can change how much it increments by.\n",
    "\n",
    "def print_numbers(limit, increment):\n",
    "    i = 0\n",
    "    numbers = []\n",
    "    while i < limit:\n",
    "        print(f\"At the top i is {i}\\n\")\n",
    "        numbers.append(i)\n",
    "#Then update i to be 1 integer higher and print the new numbers list and new i variable\n",
    "        i = i + increment\n",
    "        print(\"Numbers now: \", numbers, \"\\n\")\n",
    "        print(f\"at the bottom i is {i}\\n\")\n",
    "#print a header \n",
    "    print(\"The numbers: \")\n",
    "#use a for loop to print out all of the values in your numbers list\n",
    "    for num in numbers:\n",
    "        print(num)\n",
    "\n",
    "#print_numbers(10, 2)"
   ]
  },
  {
   "cell_type": "code",
   "execution_count": 6,
   "id": "956ef294-b410-40d5-9b1b-5a8482e78465",
   "metadata": {},
   "outputs": [],
   "source": [
    "#Write it to use for-loops and range. \n",
    "#Do you need the incrementor in the middle anymore? What happens if you do not get rid of it?\n",
    "\n"
   ]
  },
  {
   "cell_type": "code",
   "execution_count": 10,
   "id": "d1653e5a-654e-4a1c-875f-b5c6a46a6732",
   "metadata": {},
   "outputs": [
    {
     "name": "stdout",
     "output_type": "stream",
     "text": [
      "The numbers: \n",
      "At the top i is 0\n",
      "\n",
      "Numbers now:  [0] \n",
      "\n",
      "at the bottom i is 2\n",
      "\n",
      "At the top i is 2\n",
      "\n",
      "Numbers now:  [0, 2] \n",
      "\n",
      "at the bottom i is 4\n",
      "\n",
      "At the top i is 4\n",
      "\n",
      "Numbers now:  [0, 2, 4] \n",
      "\n",
      "at the bottom i is 6\n",
      "\n",
      "At the top i is 6\n",
      "\n",
      "Numbers now:  [0, 2, 4, 6] \n",
      "\n",
      "at the bottom i is 8\n",
      "\n",
      "At the top i is 8\n",
      "\n",
      "Numbers now:  [0, 2, 4, 6, 8] \n",
      "\n",
      "at the bottom i is 10\n",
      "\n",
      "The numbers:  None\n"
     ]
    }
   ],
   "source": [
    "def print_numbers(limit, increment):\n",
    "    numbers = []\n",
    "    for i in range(0, limit, increment):\n",
    "        if i < limit:\n",
    "            print(f\"At the top i is {i}\\n\")\n",
    "            numbers.append(i)\n",
    "#Then update i to be 1 integer higher and print the new numbers list and new i variable\n",
    "            i = i + increment\n",
    "            print(\"Numbers now: \", numbers, \"\\n\")\n",
    "            print(f\"at the bottom i is {i}\\n\")\n",
    "#print a header \n",
    "print(\"The numbers: \")\n",
    " \n",
    "print(\"The numbers: \", print_numbers(10, 2))\n"
   ]
  },
  {
   "cell_type": "code",
   "execution_count": null,
   "id": "124a4e96-f943-47c9-85ed-9f342668cb7f",
   "metadata": {},
   "outputs": [],
   "source": []
  }
 ],
 "metadata": {
  "kernelspec": {
   "display_name": "Python 3 (ipykernel)",
   "language": "python",
   "name": "python3"
  },
  "language_info": {
   "codemirror_mode": {
    "name": "ipython",
    "version": 3
   },
   "file_extension": ".py",
   "mimetype": "text/x-python",
   "name": "python",
   "nbconvert_exporter": "python",
   "pygments_lexer": "ipython3",
   "version": "3.11.7"
  }
 },
 "nbformat": 4,
 "nbformat_minor": 5
}
