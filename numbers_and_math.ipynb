{
 "cells": [
  {
   "cell_type": "code",
   "execution_count": 6,
   "id": "15d42ef1-7219-47ae-a6c2-b724f31ef3c8",
   "metadata": {},
   "outputs": [
    {
     "name": "stdout",
     "output_type": "stream",
     "text": [
      "hello world!\n",
      "hello again\n",
      "I like typing this.\n",
      "this is fin.\n",
      "Yay! Printing.\n",
      "I'd much rather you 'not'.\n",
      "yo yo ho ho I told you so\n"
     ]
    }
   ],
   "source": [
    "print(\"hello world!\")\n",
    "print(\"hello again\")\n",
    "print(\"I like typing this.\")\n",
    "print(\"this is fin.\")\n",
    "print('Yay! Printing.')\n",
    "print(\"I'd much rather you 'not'.\")\n",
    "#print('I \"said\" do not touch this.')#\n",
    "print(\"yo yo \" \"ho ho \" 'I told you so')"
   ]
  },
  {
   "cell_type": "code",
   "execution_count": 10,
   "id": "26554797-ea30-4cf5-88e1-938e94e8a909",
   "metadata": {},
   "outputs": [
    {
     "name": "stdout",
     "output_type": "stream",
     "text": [
      "I could have code like this.\n",
      "this will run.\n"
     ]
    }
   ],
   "source": [
    "# A comment so that I can read my code later\n",
    "print(\"I could have code like this.\") # and this comment is ignored\n",
    "# print(\"this won't run.\")\n",
    "print(\"this will run.\")"
   ]
  },
  {
   "cell_type": "code",
   "execution_count": 30,
   "id": "676568ad-d8dd-41fc-ab88-0a72721398d4",
   "metadata": {},
   "outputs": [
    {
     "name": "stdout",
     "output_type": "stream",
     "text": [
      "I will now count my chickens:\n",
      "Hens 30.0\n",
      "Roosters 95.0\n",
      "Now I will count the eggs:\n",
      "6.75\n",
      "Is it true that 3 + 2 < 5 - 7?\n",
      "False\n",
      "What is 3 + 2? 5.0\n",
      "What is 5 - 7? -2.0\n",
      "Oh, that's why it's False.\n",
      "How about some more.\n",
      "Is it greater? True\n",
      "Is it greater or equal? True\n",
      "Is it less of equal? False\n"
     ]
    }
   ],
   "source": [
    "#This line explains the exercise\n",
    "print(\"I will now count my chickens:\")\n",
    "#This line counts my hens \n",
    "print(\"Hens\", float(25 + 30 / 6))\n",
    "#This line counts my roosters\n",
    "print(\"Roosters\", float(100 - 25 * 3 % 7))\n",
    "#This line counts my eggs\n",
    "print(\"Now I will count the eggs:\")\n",
    "print(float(3 + 2 + 1 - 5 + 4 % 2 - 1 / 4 + 6))\n",
    "#This line shows that the mathematics is not True\n",
    "print(\"Is it true that 3 + 2 < 5 - 7?\")\n",
    "print(3 + 2 < 5 - 7)\n",
    "#This line does this math\n",
    "print(\"What is 3 + 2?\", float(3 + 2))\n",
    "#This line does more math\n",
    "print(\"What is 5 - 7?\", float(5 - 7))\n",
    "#This line is a joke\n",
    "print(\"Oh, that's why it's False.\")\n",
    "#This line is playful\n",
    "print(\"How about some more.\")\n",
    "#This line shows the greater function\n",
    "print(\"Is it greater?\", 5 > -2)\n",
    "#This line shows the greater or equal function\n",
    "print(\"Is it greater or equal?\", 5 >= -2)\n",
    "#This line shows the less or equal function\n",
    "print(\"Is it less of equal?\", 5<= -2)\n"
   ]
  },
  {
   "cell_type": "code",
   "execution_count": 24,
   "id": "6a93758c-79f5-485c-ad6f-a43d34fbc6fd",
   "metadata": {},
   "outputs": [
    {
     "data": {
      "text/plain": [
       "3"
      ]
     },
     "execution_count": 24,
     "metadata": {},
     "output_type": "execute_result"
    }
   ],
   "source": [
    "1+2"
   ]
  },
  {
   "cell_type": "code",
   "execution_count": 31,
   "id": "35f6517e-22a6-48bc-8df0-b70cf9dbcb2d",
   "metadata": {},
   "outputs": [
    {
     "data": {
      "text/plain": [
       "5"
      ]
     },
     "execution_count": 31,
     "metadata": {},
     "output_type": "execute_result"
    }
   ],
   "source": [
    "2+3"
   ]
  },
  {
   "cell_type": "code",
   "execution_count": 45,
   "id": "ecf75cc3-759d-4933-8261-e314b60be848",
   "metadata": {},
   "outputs": [
    {
     "name": "stdout",
     "output_type": "stream",
     "text": [
      "there are 100 cars available\n",
      "there are only 30 drivers available\n",
      "there will be 70 empty cars today\n",
      "we can transport 120.0 people today\n",
      "we have 90 to carpool today\n",
      "we need to put about 3.0 in each car\n"
     ]
    }
   ],
   "source": [
    "#these are exampels of variables in python where we use an equals to give data names\n",
    "cars = 100\n",
    "#space left in a car is a floating point as there may be fractions in the resulting math\n",
    "space_in_a_car = 4.0\n",
    "#drivers don't have a floating point as humans can't be a fraction\n",
    "drivers = 30\n",
    "#same logic applies for passengers\n",
    "passengers = 90\n",
    "#this variable subtracts drivers from cars to get the available cars not being driven\n",
    "cars_not_driven = cars - drivers\n",
    "#this variable concludes that the number of cars beign driven must equal the number of drivers\n",
    "cars_driven = drivers\n",
    "#this variable mutiplies the possible space in each car being driven to measure the max carpool capacity\n",
    "carpool_capacity = cars_driven * space_in_a_car\n",
    "#this variable takes total passengers and diveds them by the number of cars driven to get an average number of passengers per car\n",
    "average_passengers_per_car = passengers / cars_driven\n",
    "\n",
    "#these are how we would like our data to be presented within text to be read more easily\n",
    "print(\"there are\", cars, \"cars available\")\n",
    "print(\"there are only\", drivers, \"drivers available\")\n",
    "print(\"there will be\", cars_not_driven, \"empty cars today\")\n",
    "print(\"we can transport\", carpool_capacity, \"people today\")\n",
    "print(\"we have\", passengers, \"to carpool today\")\n",
    "print(\"we need to put about\", average_passengers_per_car, \"in each car\")"
   ]
  },
  {
   "cell_type": "code",
   "execution_count": null,
   "id": "0970bb85-72a1-4de0-a34e-158b8652237a",
   "metadata": {},
   "outputs": [],
   "source": []
  }
 ],
 "metadata": {
  "kernelspec": {
   "display_name": "Python 3 (ipykernel)",
   "language": "python",
   "name": "python3"
  },
  "language_info": {
   "codemirror_mode": {
    "name": "ipython",
    "version": 3
   },
   "file_extension": ".py",
   "mimetype": "text/x-python",
   "name": "python",
   "nbconvert_exporter": "python",
   "pygments_lexer": "ipython3",
   "version": "3.11.7"
  }
 },
 "nbformat": 4,
 "nbformat_minor": 5
}
