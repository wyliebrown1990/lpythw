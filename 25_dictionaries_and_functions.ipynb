{
 "cells": [
  {
   "cell_type": "code",
   "execution_count": 2,
   "id": "459dad6d-5efe-460e-9f34-22a5ea4e7a9b",
   "metadata": {},
   "outputs": [
    {
     "name": "stdout",
     "output_type": "stream",
     "text": [
      "NUMBER IS 100\n",
      "NUMBER IS 100\n"
     ]
    }
   ],
   "source": [
    "def print_number(x):\n",
    "    print(\"NUMBER IS\", x)\n",
    "\n",
    "rename_print = print_number\n",
    "rename_print(100)\n",
    "print_number(100)"
   ]
  },
  {
   "cell_type": "code",
   "execution_count": 3,
   "id": "38a25b7f-a6d7-40ce-a7a6-e72e8af02a7a",
   "metadata": {},
   "outputs": [
    {
     "name": "stdout",
     "output_type": "stream",
     "text": [
      "27\n"
     ]
    }
   ],
   "source": [
    "def cube(s):\n",
    "    print(s*s*s)\n",
    "\n",
    "cube_result = cube\n",
    "cube_result(3)"
   ]
  },
  {
   "cell_type": "code",
   "execution_count": 20,
   "id": "fdb7e2e2-8ca1-4ac5-b800-c6c9e5679ecc",
   "metadata": {},
   "outputs": [
    {
     "name": "stdin",
     "output_type": "stream",
     "text": [
      "length? 2\n",
      "width? 3\n",
      "height? 4\n"
     ]
    },
    {
     "name": "stdout",
     "output_type": "stream",
     "text": [
      "Your cube is: 24.0\n"
     ]
    }
   ],
   "source": [
    "def cube(l, w, h):\n",
    "    print(l * w * h)\n",
    "\n",
    "l = float(input(\"length?\" ))\n",
    "w = float(input(\"width?\" ))\n",
    "h = float(input(\"height?\" ))\n",
    "\n",
    "print(\"Your cube is:\", end=' ')\n",
    "cube(l, w, h)"
   ]
  },
  {
   "cell_type": "code",
   "execution_count": 21,
   "id": "ff13d144-edb7-438d-a34e-36ed7e2986d4",
   "metadata": {},
   "outputs": [
    {
     "name": "stdout",
     "output_type": "stream",
     "text": [
      "LITTLE Red CORVETTE\n"
     ]
    }
   ],
   "source": [
    "#putting a variable in a dictionary\n",
    "#setting the variable color \n",
    "color = \"Red\"\n",
    "#setting the variable corvette as a dictionary\n",
    "corvette = {\n",
    "    \"color\": color\n",
    "}\n",
    "\n",
    "print(\"LITTLE\", corvette[\"color\"], \"CORVETTE\")\n"
   ]
  },
  {
   "cell_type": "code",
   "execution_count": 26,
   "id": "175066da-3dd2-4379-9b75-b65c44bc435d",
   "metadata": {},
   "outputs": [
    {
     "name": "stdout",
     "output_type": "stream",
     "text": [
      "my Red can go\n",
      "VROOM\n"
     ]
    }
   ],
   "source": [
    "#putting a function in a dictionary\n",
    "def run():\n",
    "    print(\"VROOM\")\n",
    "\n",
    "corvette = {\n",
    "    \"color\": \"Red\",\n",
    "    \"run\": run\n",
    "}\n",
    "\n",
    "#this line prints some strings and the value Red from the corvette dictionary's key color\n",
    "print(\"my\", corvette[\"color\"], \"can go\")\n",
    "#corvette tells Python to load the dict.\n",
    "#[ tells Python to start an index into corvette.\n",
    "#\"run\" tells Python to use \"run\" as the key to search the dict.\n",
    "#] tells Python you are done and it should complete the index.\n",
    "#Python then returns the contents of corvette that match the key \"run\", which is the run() function above.\n",
    "#Python now has the run function, so () tells python to call it like you would any other function.\n",
    "corvette[\"run\"]()"
   ]
  },
  {
   "cell_type": "code",
   "execution_count": 33,
   "id": "54d96654-45ee-4893-a2db-6e6f347e81e6",
   "metadata": {},
   "outputs": [
    {
     "name": "stdin",
     "output_type": "stream",
     "text": [
      "what language do you speak?  english\n"
     ]
    },
    {
     "name": "stdout",
     "output_type": "stream",
     "text": [
      "Hello John\n"
     ]
    }
   ],
   "source": [
    "def say_hello(name):\n",
    "    print(\"Hello\", name)\n",
    "\n",
    "greeters = {\n",
    "    \"english\": say_hello,\n",
    "    \"french\": say_hello,\n",
    "    \"spanish\": say_hello\n",
    "}\n",
    "\n",
    "name = input(\"what language do you speak? \")\n",
    "greeters[name](\"John\")"
   ]
  },
  {
   "cell_type": "code",
   "execution_count": 42,
   "id": "992a34a8-a634-45d4-8c62-91e24af69d51",
   "metadata": {},
   "outputs": [
    {
     "name": "stdout",
     "output_type": "stream",
     "text": [
      "<function create_any_car at 0x15d41ad40>\n"
     ]
    }
   ],
   "source": [
    "#create a function that receives parameters for the various settings of a car\n",
    "#create a dictionary using the settings for a car\n",
    "def create_any_car(*args):\n",
    "    color, speed, size, model = args\n",
    "    car = {\n",
    "        color: \"Red\",\n",
    "        speed: \"Fast\",\n",
    "        size: \"Small\",\n",
    "        model: \"Corvette\"\n",
    "    }\n",
    "    return car\n",
    "\n"
   ]
  },
  {
   "cell_type": "code",
   "execution_count": null,
   "id": "e3490316-2efe-46b3-9d05-bc3a05ff213e",
   "metadata": {},
   "outputs": [],
   "source": []
  }
 ],
 "metadata": {
  "kernelspec": {
   "display_name": "Python 3 (ipykernel)",
   "language": "python",
   "name": "python3"
  },
  "language_info": {
   "codemirror_mode": {
    "name": "ipython",
    "version": 3
   },
   "file_extension": ".py",
   "mimetype": "text/x-python",
   "name": "python",
   "nbconvert_exporter": "python",
   "pygments_lexer": "ipython3",
   "version": "3.11.7"
  }
 },
 "nbformat": 4,
 "nbformat_minor": 5
}
