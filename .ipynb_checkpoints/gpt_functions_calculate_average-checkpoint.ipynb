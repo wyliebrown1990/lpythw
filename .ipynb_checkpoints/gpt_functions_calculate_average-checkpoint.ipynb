{
 "cells": [
  {
   "cell_type": "code",
   "execution_count": 18,
   "id": "8c821c84-c9a9-4ba6-8408-b8f050d24537",
   "metadata": {},
   "outputs": [
    {
     "name": "stdin",
     "output_type": "stream",
     "text": [
      "Enter Number 1:  1\n",
      "Enter Number 2:  2\n",
      "Enter Number 3:  3\n",
      "Enter Number 4:  4\n"
     ]
    },
    {
     "name": "stdout",
     "output_type": "stream",
     "text": [
      "Average:  2.5\n"
     ]
    }
   ],
   "source": [
    "def calculate_average(numbers):\n",
    "    total = sum(numbers)\n",
    "    avg = total / len(numbers)\n",
    "    return avg\n",
    "\n",
    "#Prompt users for input\n",
    "number1 = float(input(\"Enter Number 1: \"))\n",
    "number2 = float(input(\"Enter Number 2: \"))\n",
    "number3 = float(input(\"Enter Number 3: \"))\n",
    "number4 = float(input(\"Enter Number 4: \"))\n",
    "\n",
    "avg = calculate_average([number1, number2, number3, number4])\n",
    "\n",
    "print(\"Average: \", avg)"
   ]
  },
  {
   "cell_type": "code",
   "execution_count": 28,
   "id": "fb1d1228-00f6-4b38-89ba-f457173c853c",
   "metadata": {},
   "outputs": [
    {
     "name": "stdin",
     "output_type": "stream",
     "text": [
      "Enter Fahrenheit:  50\n",
      "Enter Celsius:  10\n"
     ]
    },
    {
     "name": "stdout",
     "output_type": "stream",
     "text": [
      "Conversion to celsius is:  10.0\n",
      "Conversion to fahrenheit is:  50.0\n"
     ]
    }
   ],
   "source": [
    "#Write a Python program that converts temperature from Celsius to Fahrenheit and vice versa\n",
    "\n",
    "def fahrenheit_to_celsius_vice_versa(number1, number2):\n",
    "    celsius = (number1 - 32) * 5/9\n",
    "    fahrenheit = (number2 * 9/5) + 32\n",
    "    return celsius, fahrenheit\n",
    "\n",
    "#prompt user for F number\n",
    "number1 = float(input(\"Enter Fahrenheit: \"))\n",
    "\n",
    "#primpt user for C number\n",
    "number2 = float(input(\"Enter Celsius: \"))\n",
    "\n",
    "celsius, fahrenheit = fahrenheit_to_celsius_vice_versa(number1, number2)\n",
    "\n",
    "print(\"Conversion to celsius is: \", celsius)\n",
    "print(\"Conversion to fahrenheit is: \", fahrenheit)"
   ]
  },
  {
   "cell_type": "code",
   "execution_count": 34,
   "id": "388c0d55-11f1-4d96-8249-e7adfb35e2a7",
   "metadata": {},
   "outputs": [
    {
     "name": "stdout",
     "output_type": "stream",
     "text": [
      "Let's add stuff:\n"
     ]
    },
    {
     "name": "stdin",
     "output_type": "stream",
     "text": [
      "a:  3\n",
      "b:  3\n"
     ]
    },
    {
     "name": "stdout",
     "output_type": "stream",
     "text": [
      "The addition answer is:  6.0\n",
      "Let's subtract stuff:\n"
     ]
    },
    {
     "name": "stdin",
     "output_type": "stream",
     "text": [
      "a:  3\n",
      "b:  3\n"
     ]
    },
    {
     "name": "stdout",
     "output_type": "stream",
     "text": [
      "The subtraction answer is:  0.0\n",
      "Let's multiply stuff:\n"
     ]
    },
    {
     "name": "stdin",
     "output_type": "stream",
     "text": [
      "a:  3\n",
      "b:  3\n"
     ]
    },
    {
     "name": "stdout",
     "output_type": "stream",
     "text": [
      "The multiplication answer is:  9.0\n"
     ]
    }
   ],
   "source": [
    "#Write a Python program that implements basic calculator functions such as:\n",
    "#addition, subtraction, multiplication, and division using separate functions for each operation.\n",
    "\n",
    "def addition(a, b):\n",
    "    addition_answer = a + b\n",
    "    return addition_answer\n",
    "\n",
    "print(\"Let's add stuff:\")\n",
    "a = float(input(\"a: \"))\n",
    "b = float(input(\"b: \"))\n",
    "\n",
    "addition_answer = addition(a, b)\n",
    "print(\"The addition answer is: \", addition_answer)\n",
    "\n",
    "def subtraction(a, b):\n",
    "    subtraction_answer = a - b\n",
    "    return subtraction_answer\n",
    "\n",
    "print(\"Let's subtract stuff:\")\n",
    "a = float(input(\"a: \"))\n",
    "b = float(input(\"b: \"))\n",
    "\n",
    "subtraction_answer = subtraction(a, b)\n",
    "print(\"The subtraction answer is: \", subtraction_answer)\n",
    "\n",
    "def multiplication(a, b):\n",
    "    multiplication_answer = a * b\n",
    "    return multiplication_answer\n",
    "\n",
    "print(\"Let's multiply stuff:\")\n",
    "a = float(input(\"a: \"))\n",
    "b = float(input(\"b: \"))\n",
    "\n",
    "multiplication_answer = multiplication(a, b)\n",
    "print(\"The multiplication answer is: \", multiplication_answer)"
   ]
  },
  {
   "cell_type": "code",
   "execution_count": null,
   "id": "e2ec05bc-4262-4a02-890b-05b2070ca271",
   "metadata": {},
   "outputs": [],
   "source": []
  }
 ],
 "metadata": {
  "kernelspec": {
   "display_name": "Python 3 (ipykernel)",
   "language": "python",
   "name": "python3"
  },
  "language_info": {
   "codemirror_mode": {
    "name": "ipython",
    "version": 3
   },
   "file_extension": ".py",
   "mimetype": "text/x-python",
   "name": "python",
   "nbconvert_exporter": "python",
   "pygments_lexer": "ipython3",
   "version": "3.11.7"
  }
 },
 "nbformat": 4,
 "nbformat_minor": 5
}
