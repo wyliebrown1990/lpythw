{
 "cells": [
  {
   "cell_type": "code",
   "execution_count": 6,
   "id": "15d42ef1-7219-47ae-a6c2-b724f31ef3c8",
   "metadata": {},
   "outputs": [
    {
     "name": "stdout",
     "output_type": "stream",
     "text": [
      "hello world!\n",
      "hello again\n",
      "I like typing this.\n",
      "this is fin.\n",
      "Yay! Printing.\n",
      "I'd much rather you 'not'.\n",
      "yo yo ho ho I told you so\n"
     ]
    }
   ],
   "source": [
    "print(\"hello world!\")\n",
    "print(\"hello again\")\n",
    "print(\"I like typing this.\")\n",
    "print(\"this is fin.\")\n",
    "print('Yay! Printing.')\n",
    "print(\"I'd much rather you 'not'.\")\n",
    "#print('I \"said\" do not touch this.')#\n",
    "print(\"yo yo \" \"ho ho \" 'I told you so')"
   ]
  },
  {
   "cell_type": "code",
   "execution_count": 10,
   "id": "26554797-ea30-4cf5-88e1-938e94e8a909",
   "metadata": {},
   "outputs": [
    {
     "name": "stdout",
     "output_type": "stream",
     "text": [
      "I could have code like this.\n",
      "this will run.\n"
     ]
    }
   ],
   "source": [
    "# A comment so that I can read my code later\n",
    "print(\"I could have code like this.\") # and this comment is ignored\n",
    "# print(\"this won't run.\")\n",
    "print(\"this will run.\")"
   ]
  },
  {
   "cell_type": "code",
   "execution_count": 30,
   "id": "676568ad-d8dd-41fc-ab88-0a72721398d4",
   "metadata": {},
   "outputs": [
    {
     "name": "stdout",
     "output_type": "stream",
     "text": [
      "I will now count my chickens:\n",
      "Hens 30.0\n",
      "Roosters 95.0\n",
      "Now I will count the eggs:\n",
      "6.75\n",
      "Is it true that 3 + 2 < 5 - 7?\n",
      "False\n",
      "What is 3 + 2? 5.0\n",
      "What is 5 - 7? -2.0\n",
      "Oh, that's why it's False.\n",
      "How about some more.\n",
      "Is it greater? True\n",
      "Is it greater or equal? True\n",
      "Is it less of equal? False\n"
     ]
    }
   ],
   "source": [
    "#This line explains the exercise\n",
    "print(\"I will now count my chickens:\")\n",
    "#This line counts my hens \n",
    "print(\"Hens\", float(25 + 30 / 6))\n",
    "#This line counts my roosters\n",
    "print(\"Roosters\", float(100 - 25 * 3 % 7))\n",
    "#This line counts my eggs\n",
    "print(\"Now I will count the eggs:\")\n",
    "print(float(3 + 2 + 1 - 5 + 4 % 2 - 1 / 4 + 6))\n",
    "#This line shows that the mathematics is not True\n",
    "print(\"Is it true that 3 + 2 < 5 - 7?\")\n",
    "print(3 + 2 < 5 - 7)\n",
    "#This line does this math\n",
    "print(\"What is 3 + 2?\", float(3 + 2))\n",
    "#This line does more math\n",
    "print(\"What is 5 - 7?\", float(5 - 7))\n",
    "#This line is a joke\n",
    "print(\"Oh, that's why it's False.\")\n",
    "#This line is playful\n",
    "print(\"How about some more.\")\n",
    "#This line shows the greater function\n",
    "print(\"Is it greater?\", 5 > -2)\n",
    "#This line shows the greater or equal function\n",
    "print(\"Is it greater or equal?\", 5 >= -2)\n",
    "#This line shows the less or equal function\n",
    "print(\"Is it less of equal?\", 5<= -2)\n"
   ]
  },
  {
   "cell_type": "code",
   "execution_count": 24,
   "id": "6a93758c-79f5-485c-ad6f-a43d34fbc6fd",
   "metadata": {},
   "outputs": [
    {
     "data": {
      "text/plain": [
       "3"
      ]
     },
     "execution_count": 24,
     "metadata": {},
     "output_type": "execute_result"
    }
   ],
   "source": [
    "1+2"
   ]
  },
  {
   "cell_type": "code",
   "execution_count": null,
   "id": "35f6517e-22a6-48bc-8df0-b70cf9dbcb2d",
   "metadata": {},
   "outputs": [],
   "source": []
  }
 ],
 "metadata": {
  "kernelspec": {
   "display_name": "Python 3 (ipykernel)",
   "language": "python",
   "name": "python3"
  },
  "language_info": {
   "codemirror_mode": {
    "name": "ipython",
    "version": 3
   },
   "file_extension": ".py",
   "mimetype": "text/x-python",
   "name": "python",
   "nbconvert_exporter": "python",
   "pygments_lexer": "ipython3",
   "version": "3.11.7"
  }
 },
 "nbformat": 4,
 "nbformat_minor": 5
}
