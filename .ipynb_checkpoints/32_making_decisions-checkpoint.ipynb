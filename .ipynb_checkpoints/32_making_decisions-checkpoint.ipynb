{
 "cells": [
  {
   "cell_type": "code",
   "execution_count": 4,
   "id": "55fbed31-678a-4ee0-bc63-997149fb2c1e",
   "metadata": {},
   "outputs": [
    {
     "name": "stdout",
     "output_type": "stream",
     "text": [
      "You enter a dark rooom with two doors.\n",
      "Do you go through door #1 or door #2?\n"
     ]
    },
    {
     "name": "stdin",
     "output_type": "stream",
     "text": [
      ">  1\n"
     ]
    },
    {
     "name": "stdout",
     "output_type": "stream",
     "text": [
      "There's a giant bear here eating cake.\n",
      "What do you do?\n",
      "1. Take the cake\n",
      "2. Scream at the bear!\n"
     ]
    }
   ],
   "source": [
    "print(\"\"\"You enter a dark rooom with two doors.\n",
    "Do you go through door #1 or door #2?\"\"\")\n",
    "\n",
    "door = input(\"> \")\n",
    "\n",
    "if door == \"1\":\n",
    "    print(\"There's a giant bear here eating cake.\")\n",
    "    print(\"What do you do?\")\n",
    "    print(\"1. Take the cake\")\n",
    "    print(\"2. Scream at the bear!\")\n",
    "\n",
    "bear = input(\"> \")"
   ]
  },
  {
   "cell_type": "code",
   "execution_count": null,
   "id": "48eea80d-202b-43dc-acf0-822daaba9c8d",
   "metadata": {},
   "outputs": [],
   "source": []
  }
 ],
 "metadata": {
  "kernelspec": {
   "display_name": "Python 3 (ipykernel)",
   "language": "python",
   "name": "python3"
  },
  "language_info": {
   "codemirror_mode": {
    "name": "ipython",
    "version": 3
   },
   "file_extension": ".py",
   "mimetype": "text/x-python",
   "name": "python",
   "nbconvert_exporter": "python",
   "pygments_lexer": "ipython3",
   "version": "3.11.7"
  }
 },
 "nbformat": 4,
 "nbformat_minor": 5
}
