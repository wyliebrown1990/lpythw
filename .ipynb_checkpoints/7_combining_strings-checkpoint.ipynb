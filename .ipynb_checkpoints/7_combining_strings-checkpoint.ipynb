{
 "cells": [
  {
   "cell_type": "code",
   "execution_count": 12,
   "id": "f167f7b6-d57e-4ed0-a388-330515b1c16a",
   "metadata": {},
   "outputs": [
    {
     "name": "stdout",
     "output_type": "stream",
     "text": [
      "Mary had a little lamb.\n",
      "It's fleece was white as snow.\n",
      "And everwhere that Mary went.\n",
      "..........\n",
      "Cheese Burger\n"
     ]
    }
   ],
   "source": [
    "#this line prints the first line of text from \"Mary Had a Little Lamb\"\n",
    "print(\"Mary had a little lamb.\")\n",
    "#this line prints the second line from the song, and formats onto the end of that string with the string \"snow\"\n",
    "print(\"It's fleece was white as {}.\".format('snow'))\n",
    "#this line is simply another line from the song as a string\n",
    "print(\"And everwhere that Mary went.\")\n",
    "#this line prints a \".\" as a string but multiplies it by 10 for a longer ellipsis\n",
    "print(\".\" * 10) #what did that do?\n",
    "\n",
    "#these lines create 12 variables with 1 letter strings\n",
    "end1 = \"C\"\n",
    "end2 = \"h\"\n",
    "end3 = \"e\"\n",
    "end4 = \"e\"\n",
    "end5 = \"s\"\n",
    "end6 = \"e\"\n",
    "end7 = \"B\"\n",
    "end8 = \"u\"\n",
    "end9 = \"r\"\n",
    "end10 = \"g\"\n",
    "end11 = \"e\"\n",
    "end12 = \"r\"\n",
    "\n",
    "#watch end = ' ' at the end. try removing it to see what happens\n",
    "#this line prints the first 6 variables to spell \"Cheese\" and ads a final variable as a space that joins the next line\n",
    "print(end1 + end2 + end3 + end4 + end5 + end6, end = ' ')\n",
    "#this line prints the last 6 variables to spell \"Burger\" on the same line of text as the print above\n",
    "print(end7 + end8 + end9 + end10 + end11 + end12)"
   ]
  },
  {
   "cell_type": "code",
   "execution_count": null,
   "id": "f55b5683-106a-484f-b10b-1468c4937a52",
   "metadata": {},
   "outputs": [],
   "source": []
  }
 ],
 "metadata": {
  "kernelspec": {
   "display_name": "Python 3 (ipykernel)",
   "language": "python",
   "name": "python3"
  },
  "language_info": {
   "codemirror_mode": {
    "name": "ipython",
    "version": 3
   },
   "file_extension": ".py",
   "mimetype": "text/x-python",
   "name": "python",
   "nbconvert_exporter": "python",
   "pygments_lexer": "ipython3",
   "version": "3.11.7"
  }
 },
 "nbformat": 4,
 "nbformat_minor": 5
}
