{
 "cells": [
  {
   "cell_type": "code",
   "execution_count": 12,
   "id": "61b07b2d-2788-4d8b-a8dd-c234a3a43b7d",
   "metadata": {},
   "outputs": [
    {
     "name": "stdout",
     "output_type": "stream",
     "text": [
      "1 2 3 4\n",
      "one two three four\n",
      "True False False True\n",
      "{} {} {} {} {} {} {} {} {} {} {} {} {} {} {} {}\n",
      "love is a lie we tell ourselves to sleep at night or stay awake\n"
     ]
    }
   ],
   "source": [
    "#this is a variable called formatter with 4 placeholders\n",
    "formatter = \"{} {} {} {}\"\n",
    "\n",
    "#these are examples showing how the method format() will take the string in sequential order and add them to the placeholders in your variable above\n",
    "print(formatter.format(1,2,3,4))\n",
    "print(formatter.format(\"one\", \"two\", \"three\", \"four\"))\n",
    "print(formatter.format(True, False, False, True))\n",
    "print(formatter.format(formatter, formatter, formatter, formatter))\n",
    "print(formatter.format(\n",
    "    \"love is a lie\",\n",
    "    \"we tell ourselves\",\n",
    "    \"to sleep at night\",\n",
    "    \"or stay awake\"\n",
    "))"
   ]
  },
  {
   "cell_type": "code",
   "execution_count": 13,
   "id": "592deaf0-709a-44d8-bcd6-9b8c8db1cd1f",
   "metadata": {},
   "outputs": [
    {
     "name": "stdout",
     "output_type": "stream",
     "text": [
      "{} {} {} {}\n"
     ]
    }
   ],
   "source": [
    "formatter = \"{} {} {} {}\"\n",
    "print(formatter)"
   ]
  },
  {
   "cell_type": "code",
   "execution_count": null,
   "id": "c42f1b88-dfb0-4dc1-9ac2-fb6b01a8d46a",
   "metadata": {},
   "outputs": [],
   "source": []
  }
 ],
 "metadata": {
  "kernelspec": {
   "display_name": "Python 3 (ipykernel)",
   "language": "python",
   "name": "python3"
  },
  "language_info": {
   "codemirror_mode": {
    "name": "ipython",
    "version": 3
   },
   "file_extension": ".py",
   "mimetype": "text/x-python",
   "name": "python",
   "nbconvert_exporter": "python",
   "pygments_lexer": "ipython3",
   "version": "3.11.7"
  }
 },
 "nbformat": 4,
 "nbformat_minor": 5
}
