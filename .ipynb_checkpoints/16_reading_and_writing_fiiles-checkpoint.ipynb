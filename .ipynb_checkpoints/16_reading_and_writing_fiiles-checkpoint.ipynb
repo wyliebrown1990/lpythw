{
 "cells": [
  {
   "cell_type": "code",
   "execution_count": 5,
   "id": "4ec1ed1f-6c7e-4e06-9f12-b00ee88cfc79",
   "metadata": {},
   "outputs": [
    {
     "name": "stdout",
     "output_type": "stream",
     "text": [
      "We're going to erase test.txt.\n",
      "If you don't want that, hit CTRL-C (^C).\n",
      "If you do want that hit RETURN\n"
     ]
    },
    {
     "name": "stdin",
     "output_type": "stream",
     "text": [
      "? CTRL-C\n"
     ]
    },
    {
     "name": "stdout",
     "output_type": "stream",
     "text": [
      "Opening the file...\n",
      "Truncating the file. Goodbye!\n",
      "Now I'm going to ask you for three lines.\n"
     ]
    },
    {
     "name": "stdin",
     "output_type": "stream",
     "text": [
      "line 1:  Wylie\n",
      "line 2:  Is\n",
      "line 3:  God\n"
     ]
    },
    {
     "name": "stdout",
     "output_type": "stream",
     "text": [
      "I'm going to write these to the file.\n",
      "And finally we close it.\n"
     ]
    }
   ],
   "source": [
    "#This line creates a variable of a txt file for filename \n",
    "filename = \"test.txt\"\n",
    "\n",
    "#Instructs user that we are going to erase the variable holding test.txt\n",
    "print(f\"We're going to erase {filename}.\")\n",
    "#allows user to stop that action\n",
    "print(\"If you don't want that, hit CTRL-C (^C).\")\n",
    "#allows user to continue that action\n",
    "print(\"If you do want that hit RETURN\")\n",
    "\n",
    "input (\"?\")\n",
    "\n",
    "print(\"Opening the file...\")\n",
    "target = open(filename, 'w')\n",
    "\n",
    "print(\"Truncating the file. Goodbye!\")\n",
    "target.truncate()\n",
    "\n",
    "print(\"Now I'm going to ask you for three lines.\")\n",
    "\n",
    "line1 = input(\"line 1: \")\n",
    "line2 = input(\"line 2: \")\n",
    "line3 = input(\"line 3: \")\n",
    "\n",
    "print(\"I'm going to write these to the file.\")\n",
    "\n",
    "target.write(line1)\n",
    "target.write(\"\\n\")\n",
    "target.write(line2)\n",
    "target.write(\"\\n\")\n",
    "target.write(line3)\n",
    "target.write(\"\\n\")\n",
    "\n",
    "print(\"And finally we close it.\")\n",
    "target.close()"
   ]
  },
  {
   "cell_type": "code",
   "execution_count": null,
   "id": "78b6b8eb-6d49-4273-bc7a-da6970cc06bf",
   "metadata": {},
   "outputs": [],
   "source": []
  }
 ],
 "metadata": {
  "kernelspec": {
   "display_name": "Python 3 (ipykernel)",
   "language": "python",
   "name": "python3"
  },
  "language_info": {
   "codemirror_mode": {
    "name": "ipython",
    "version": 3
   },
   "file_extension": ".py",
   "mimetype": "text/x-python",
   "name": "python",
   "nbconvert_exporter": "python",
   "pygments_lexer": "ipython3",
   "version": "3.11.7"
  }
 },
 "nbformat": 4,
 "nbformat_minor": 5
}
