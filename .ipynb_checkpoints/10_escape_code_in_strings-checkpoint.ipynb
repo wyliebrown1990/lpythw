{
 "cells": [
  {
   "cell_type": "code",
   "execution_count": 33,
   "id": "68e981a3-2453-4388-8451-f616b2d58949",
   "metadata": {},
   "outputs": [
    {
     "name": "stdout",
     "output_type": "stream",
     "text": [
      "\\I'm tabbed in'.\n",
      "I'm split\n",
      "on a line.\n",
      "I'm \\ a \\ cat.\n",
      "\n",
      "I'll do a list:\n",
      "\t* Cat food\n",
      "\t* Fishies\n",
      "\t* Catnip\n",
      "\t* Grass\n",
      "\n"
     ]
    }
   ],
   "source": [
    "tabby_cat = \"\\I'm tabbed in\\'.\"\n",
    "persian_cat = \"I'm split\\non a line.\"\n",
    "backslash_cat = \"I'm \\\\ a \\\\ cat.\"\n",
    "\n",
    "fat_cat = \"\"\"\n",
    "I'll do a list:\n",
    "\\t* Cat food\n",
    "\\t* Fishies\n",
    "\\t* Catnip\\n\\t* Grass\n",
    "\"\"\"\n",
    "\n",
    "print(tabby_cat)\n",
    "print(persian_cat)\n",
    "print(backslash_cat)\n",
    "print(fat_cat)"
   ]
  },
  {
   "cell_type": "code",
   "execution_count": 37,
   "id": "71b5b428-45be-4be5-952f-86d6c7683e0f",
   "metadata": {},
   "outputs": [
    {
     "name": "stdout",
     "output_type": "stream",
     "text": [
      "my name is Wylie \n",
      "and I'm \"33\" years old\n"
     ]
    }
   ],
   "source": [
    "#trying to create more complex format strings with escape sequences\n",
    "name = \"Wylie\"\n",
    "age = \"33\"\n",
    "\n",
    "print(\"my name is {} \\nand I'm \\\"{}\\\" years old\".format(name, age))"
   ]
  },
  {
   "cell_type": "code",
   "execution_count": null,
   "id": "f3adec56-b87f-4231-9eca-3a1129c330c1",
   "metadata": {},
   "outputs": [],
   "source": []
  }
 ],
 "metadata": {
  "kernelspec": {
   "display_name": "Python 3 (ipykernel)",
   "language": "python",
   "name": "python3"
  },
  "language_info": {
   "codemirror_mode": {
    "name": "ipython",
    "version": 3
   },
   "file_extension": ".py",
   "mimetype": "text/x-python",
   "name": "python",
   "nbconvert_exporter": "python",
   "pygments_lexer": "ipython3",
   "version": "3.11.7"
  }
 },
 "nbformat": 4,
 "nbformat_minor": 5
}
