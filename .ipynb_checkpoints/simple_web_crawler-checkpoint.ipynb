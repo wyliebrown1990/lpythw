{
 "cells": [
  {
   "cell_type": "code",
   "execution_count": 4,
   "id": "c7c8e0f6-0792-41ab-97f1-56db7213997a",
   "metadata": {},
   "outputs": [
    {
     "name": "stdout",
     "output_type": "stream",
     "text": [
      "Failed to retrieve webpage: 403\n"
     ]
    }
   ],
   "source": [
    "import requests\n",
    "from bs4 import BeautifulSoup\n",
    "from newspaper import Article\n",
    "import boto3\n",
    "\n",
    "# Initialize AWS S3 client\n",
    "s3 = boto3.client('s3')\n",
    "\n",
    "# URL of the webpage to scrape\n",
    "url = 'url_of_open_tab'\n",
    "\n",
    "# Send a GET request to the webpage\n",
    "response = requests.get(url)\n",
    "\n",
    "# Check if the request was successful (status code 200)\n",
    "if response.status_code == 200:\n",
    "    # Parse the HTML content of the webpage\n",
    "    soup = BeautifulSoup(response.content, 'html.parser')\n",
    "    \n",
    "    # Use Newspaper3k to extract the main article content\n",
    "    article = Article(url)\n",
    "    article.download()\n",
    "    article.parse()\n",
    "    \n",
    "    # Extracted article text\n",
    "    article_text = article.text\n",
    "    \n",
    "    # Print the article text\n",
    "    print(article_text)\n",
    "    \n",
    "    # Save the article text to a file\n",
    "    file_name = 'article.txt'\n",
    "    with open(file_name, 'w', encoding='utf-8') as file:\n",
    "        file.write(article_text)\n",
    "    \n",
    "    # Upload the file to S3 bucket\n",
    "    bucket_name = 'your_bucket_name'\n",
    "    s3.upload_file(file_name, bucket_name, file_name)\n",
    "    \n",
    "    print(f'Article text saved to {file_name} and uploaded to S3 bucket {bucket_name}/{file_name}')\n",
    "    \n",
    "else:\n",
    "    print('Failed to retrieve webpage:', response.status_code)\n"
   ]
  },
  {
   "cell_type": "code",
   "execution_count": null,
   "id": "c41d2823-4473-44c8-8282-23b179a842c1",
   "metadata": {},
   "outputs": [],
   "source": []
  }
 ],
 "metadata": {
  "kernelspec": {
   "display_name": "Python 3 (ipykernel)",
   "language": "python",
   "name": "python3"
  },
  "language_info": {
   "codemirror_mode": {
    "name": "ipython",
    "version": 3
   },
   "file_extension": ".py",
   "mimetype": "text/x-python",
   "name": "python",
   "nbconvert_exporter": "python",
   "pygments_lexer": "ipython3",
   "version": "3.11.7"
  }
 },
 "nbformat": 4,
 "nbformat_minor": 5
}
