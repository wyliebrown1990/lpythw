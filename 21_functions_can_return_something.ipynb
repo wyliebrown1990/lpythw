{
 "cells": [
  {
   "cell_type": "code",
   "execution_count": 15,
   "id": "de3f540f-25c7-4b6c-8f33-69907d53f2ed",
   "metadata": {},
   "outputs": [
    {
     "name": "stdout",
     "output_type": "stream",
     "text": [
      "Let's do some math with just functions!\n",
      "ADDING 30 + 5\n",
      "SUBTRACTING 78 - 4\n",
      "MULTIPLYING 90 * 2\n",
      "DIVIDING 100 / 2\n",
      "Age: 35, Height: 74, Weight: 180, IQ: 50.0\n",
      "Here is a puzzle!\n",
      "DIVIDING 50.0 / 2\n",
      "MULTIPLYING 180 * 25.0\n",
      "SUBTRACTING 74 - 4500.0\n",
      "ADDING 35 + -4426.0\n",
      "That becomes:  -4391.0 Can you do it by hand?\n"
     ]
    }
   ],
   "source": [
    "def add(a, b):\n",
    "    print(f\"ADDING {a} + {b}\")\n",
    "    return a + b\n",
    "\n",
    "def subtract(a, b):\n",
    "    print(f\"SUBTRACTING {a} - {b}\")\n",
    "    return a - b\n",
    "\n",
    "def multiply(a, b):\n",
    "    print(f\"MULTIPLYING {a} * {b}\")\n",
    "    return a * b\n",
    "\n",
    "def divide(a, b):\n",
    "    print(f\"DIVIDING {a} / {b}\")\n",
    "    return a / b\n",
    "\n",
    "print(\"Let's do some math with just functions!\")\n",
    "\n",
    "age = add(30, 5)\n",
    "height = subtract(78, 4)\n",
    "weight = multiply(90, 2)\n",
    "iq = divide(100, 2)\n",
    "\n",
    "print(f\"Age: {age}, Height: {height}, Weight: {weight}, IQ: {iq}\")\n",
    "\n",
    "print(\"Here is a puzzle!\")\n",
    "\n",
    "#In this puzzle Zed is using each of the new math functions in succession. \n",
    "#First, divide 50 (IQ) by 2 = 25. Then multiply 180 (weight) by 25 = 4500.\n",
    "#Then subtract 4500 - 74 (height) = -4426 \n",
    "#finally, add 35 (age) to -4426 = -4391.0\n",
    "what = add(age, subtract(height, multiply(weight, divide(iq, 2))))\n",
    "\n",
    "print(\"That becomes: \", what, \"Can you do it by hand?\")"
   ]
  },
  {
   "cell_type": "code",
   "execution_count": 14,
   "id": "70cf96d5-22b0-4651-824e-dbe7a7c12616",
   "metadata": {},
   "outputs": [
    {
     "name": "stdout",
     "output_type": "stream",
     "text": [
      "hi there lad.\n"
     ]
    }
   ],
   "source": [
    "#practice with return\n",
    "\n",
    "def adding_strings(a, b, c):\n",
    "    return a + b + c\n",
    "\n",
    "full_string = adding_strings(\"hi \", \"there \", \"lad.\")\n",
    "print(full_string)"
   ]
  },
  {
   "cell_type": "code",
   "execution_count": 21,
   "id": "58869546-3286-4da0-8c0c-87f5ab06d0a4",
   "metadata": {},
   "outputs": [
    {
     "name": "stdout",
     "output_type": "stream",
     "text": [
      "7.222222222222222\n"
     ]
    }
   ],
   "source": [
    "#Test: create a formula for converting Fehrenheit to Celsius\n",
    "def f_to_c(a):\n",
    "    return (a - 32) * 5/9\n",
    "\n",
    "celsius = f_to_c(45)\n",
    "print(celsius)\n",
    "    "
   ]
  },
  {
   "cell_type": "code",
   "execution_count": 22,
   "id": "2c4cac13-47f5-4c30-8f4c-1b3ac302a1ae",
   "metadata": {},
   "outputs": [
    {
     "name": "stdout",
     "output_type": "stream",
     "text": [
      "b'Hello, world!'\n"
     ]
    }
   ],
   "source": [
    "text = \"Hello, world!\"\n",
    "encoded_text = text.encode(\"utf-8\")\n",
    "print(encoded_text)"
   ]
  },
  {
   "cell_type": "code",
   "execution_count": 1,
   "id": "cfbd618d-7bca-42ba-b6b6-3ebf74934442",
   "metadata": {},
   "outputs": [
    {
     "data": {
      "text/plain": [
       "'Z'"
      ]
     },
     "execution_count": 1,
     "metadata": {},
     "output_type": "execute_result"
    }
   ],
   "source": [
    ">>> 0b1011010\n",
    "90\n",
    ">>> ord('Z')\n",
    "90\n",
    ">>> chr(90)\n",
    "'Z'\n",
    ">>>"
   ]
  },
  {
   "cell_type": "code",
   "execution_count": null,
   "id": "697dc33f-47fc-4df4-beed-a471555cca66",
   "metadata": {},
   "outputs": [],
   "source": []
  }
 ],
 "metadata": {
  "kernelspec": {
   "display_name": "Python 3 (ipykernel)",
   "language": "python",
   "name": "python3"
  },
  "language_info": {
   "codemirror_mode": {
    "name": "ipython",
    "version": 3
   },
   "file_extension": ".py",
   "mimetype": "text/x-python",
   "name": "python",
   "nbconvert_exporter": "python",
   "pygments_lexer": "ipython3",
   "version": "3.11.7"
  }
 },
 "nbformat": 4,
 "nbformat_minor": 5
}
