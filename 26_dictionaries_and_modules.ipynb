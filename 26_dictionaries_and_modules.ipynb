{
 "cells": [
  {
   "cell_type": "code",
   "execution_count": 2,
   "id": "2cfa1022-40fa-4105-a8d7-0a82d813efb7",
   "metadata": {},
   "outputs": [
    {
     "name": "stdout",
     "output_type": "stream",
     "text": [
      "name Zed\n",
      "height 74\n",
      "food vegetarian\n",
      "food is also vegetarian\n"
     ]
    }
   ],
   "source": [
    "import ex26\n",
    "\n",
    "print(\"name\", ex26.name)\n",
    "print(\"height\", ex26.height)\n",
    "print(\"food\", ex26.food)\n",
    "print(\"food is also\", ex26.__dict__['food'])"
   ]
  },
  {
   "cell_type": "code",
   "execution_count": 2,
   "id": "8e57be52-7415-4b4c-9ecd-6bae44f4e24e",
   "metadata": {},
   "outputs": [
    {
     "name": "stdout",
     "output_type": "stream",
     "text": [
      "{'__builtins__': {'ArithmeticError': <class 'ArithmeticError'>,\n",
      "                  'AssertionError': <class 'AssertionError'>,\n",
      "                  'AttributeError': <class 'AttributeError'>,\n",
      "                  'BaseException': <class 'BaseException'>,\n",
      "                  'BaseExceptionGroup': <class 'BaseExceptionGroup'>,\n",
      "                  'BlockingIOError': <class 'BlockingIOError'>,\n",
      "                  'BrokenPipeError': <class 'BrokenPipeError'>,\n",
      "                  'BufferError': <class 'BufferError'>,\n",
      "                  'BytesWarning': <class 'BytesWarning'>,\n",
      "                  'ChildProcessError': <class 'ChildProcessError'>,\n",
      "                  'ConnectionAbortedError': <class 'ConnectionAbortedError'>,\n",
      "                  'ConnectionError': <class 'ConnectionError'>,\n",
      "                  'ConnectionRefusedError': <class 'ConnectionRefusedError'>,\n",
      "                  'ConnectionResetError': <class 'ConnectionResetError'>,\n",
      "                  'DeprecationWarning': <class 'DeprecationWarning'>,\n",
      "                  'EOFError': <class 'EOFError'>,\n",
      "                  'Ellipsis': Ellipsis,\n",
      "                  'EncodingWarning': <class 'EncodingWarning'>,\n",
      "                  'EnvironmentError': <class 'OSError'>,\n",
      "                  'Exception': <class 'Exception'>,\n",
      "                  'ExceptionGroup': <class 'ExceptionGroup'>,\n",
      "                  'False': False,\n",
      "                  'FileExistsError': <class 'FileExistsError'>,\n",
      "                  'FileNotFoundError': <class 'FileNotFoundError'>,\n",
      "                  'FloatingPointError': <class 'FloatingPointError'>,\n",
      "                  'FutureWarning': <class 'FutureWarning'>,\n",
      "                  'GeneratorExit': <class 'GeneratorExit'>,\n",
      "                  'IOError': <class 'OSError'>,\n",
      "                  'ImportError': <class 'ImportError'>,\n",
      "                  'ImportWarning': <class 'ImportWarning'>,\n",
      "                  'IndentationError': <class 'IndentationError'>,\n",
      "                  'IndexError': <class 'IndexError'>,\n",
      "                  'InterruptedError': <class 'InterruptedError'>,\n",
      "                  'IsADirectoryError': <class 'IsADirectoryError'>,\n",
      "                  'KeyError': <class 'KeyError'>,\n",
      "                  'KeyboardInterrupt': <class 'KeyboardInterrupt'>,\n",
      "                  'LookupError': <class 'LookupError'>,\n",
      "                  'MemoryError': <class 'MemoryError'>,\n",
      "                  'ModuleNotFoundError': <class 'ModuleNotFoundError'>,\n",
      "                  'NameError': <class 'NameError'>,\n",
      "                  'None': None,\n",
      "                  'NotADirectoryError': <class 'NotADirectoryError'>,\n",
      "                  'NotImplemented': NotImplemented,\n",
      "                  'NotImplementedError': <class 'NotImplementedError'>,\n",
      "                  'OSError': <class 'OSError'>,\n",
      "                  'OverflowError': <class 'OverflowError'>,\n",
      "                  'PendingDeprecationWarning': <class 'PendingDeprecationWarning'>,\n",
      "                  'PermissionError': <class 'PermissionError'>,\n",
      "                  'ProcessLookupError': <class 'ProcessLookupError'>,\n",
      "                  'RecursionError': <class 'RecursionError'>,\n",
      "                  'ReferenceError': <class 'ReferenceError'>,\n",
      "                  'ResourceWarning': <class 'ResourceWarning'>,\n",
      "                  'RuntimeError': <class 'RuntimeError'>,\n",
      "                  'RuntimeWarning': <class 'RuntimeWarning'>,\n",
      "                  'StopAsyncIteration': <class 'StopAsyncIteration'>,\n",
      "                  'StopIteration': <class 'StopIteration'>,\n",
      "                  'SyntaxError': <class 'SyntaxError'>,\n",
      "                  'SyntaxWarning': <class 'SyntaxWarning'>,\n",
      "                  'SystemError': <class 'SystemError'>,\n",
      "                  'SystemExit': <class 'SystemExit'>,\n",
      "                  'TabError': <class 'TabError'>,\n",
      "                  'TimeoutError': <class 'TimeoutError'>,\n",
      "                  'True': True,\n",
      "                  'TypeError': <class 'TypeError'>,\n",
      "                  'UnboundLocalError': <class 'UnboundLocalError'>,\n",
      "                  'UnicodeDecodeError': <class 'UnicodeDecodeError'>,\n",
      "                  'UnicodeEncodeError': <class 'UnicodeEncodeError'>,\n",
      "                  'UnicodeError': <class 'UnicodeError'>,\n",
      "                  'UnicodeTranslateError': <class 'UnicodeTranslateError'>,\n",
      "                  'UnicodeWarning': <class 'UnicodeWarning'>,\n",
      "                  'UserWarning': <class 'UserWarning'>,\n",
      "                  'ValueError': <class 'ValueError'>,\n",
      "                  'Warning': <class 'Warning'>,\n",
      "                  'ZeroDivisionError': <class 'ZeroDivisionError'>,\n",
      "                  '__IPYTHON__': True,\n",
      "                  '__build_class__': <built-in function __build_class__>,\n",
      "                  '__debug__': True,\n",
      "                  '__doc__': 'Built-in functions, types, exceptions, and other '\n",
      "                             'objects.\\n'\n",
      "                             '\\n'\n",
      "                             'This module provides direct access to all '\n",
      "                             \"'built-in'\\n\"\n",
      "                             'identifiers of Python; for example, builtins.len '\n",
      "                             'is\\n'\n",
      "                             'the full name for the built-in function len().\\n'\n",
      "                             '\\n'\n",
      "                             'This module is not normally accessed explicitly '\n",
      "                             'by most\\n'\n",
      "                             'applications, but can be useful in modules that '\n",
      "                             'provide\\n'\n",
      "                             'objects with the same name as a built-in value, '\n",
      "                             'but in\\n'\n",
      "                             'which the built-in of that name is also needed.',\n",
      "                  '__import__': <built-in function __import__>,\n",
      "                  '__loader__': <class '_frozen_importlib.BuiltinImporter'>,\n",
      "                  '__name__': 'builtins',\n",
      "                  '__package__': '',\n",
      "                  '__spec__': ModuleSpec(name='builtins', loader=<class '_frozen_importlib.BuiltinImporter'>, origin='built-in'),\n",
      "                  'abs': <built-in function abs>,\n",
      "                  'aiter': <built-in function aiter>,\n",
      "                  'all': <built-in function all>,\n",
      "                  'anext': <built-in function anext>,\n",
      "                  'any': <built-in function any>,\n",
      "                  'ascii': <built-in function ascii>,\n",
      "                  'bin': <built-in function bin>,\n",
      "                  'bool': <class 'bool'>,\n",
      "                  'breakpoint': <built-in function breakpoint>,\n",
      "                  'bytearray': <class 'bytearray'>,\n",
      "                  'bytes': <class 'bytes'>,\n",
      "                  'callable': <built-in function callable>,\n",
      "                  'chr': <built-in function chr>,\n",
      "                  'classmethod': <class 'classmethod'>,\n",
      "                  'compile': <built-in function compile>,\n",
      "                  'complex': <class 'complex'>,\n",
      "                  'copyright': Copyright (c) 2001-2023 Python Software Foundation.\n",
      "All Rights Reserved.\n",
      "\n",
      "Copyright (c) 2000 BeOpen.com.\n",
      "All Rights Reserved.\n",
      "\n",
      "Copyright (c) 1995-2001 Corporation for National Research Initiatives.\n",
      "All Rights Reserved.\n",
      "\n",
      "Copyright (c) 1991-1995 Stichting Mathematisch Centrum, Amsterdam.\n",
      "All Rights Reserved.,\n",
      "                  'credits':     Thanks to CWI, CNRI, BeOpen.com, Zope Corporation and a cast of thousands\n",
      "    for supporting Python development.  See www.python.org for more information.,\n",
      "                  'delattr': <built-in function delattr>,\n",
      "                  'dict': <class 'dict'>,\n",
      "                  'dir': <built-in function dir>,\n",
      "                  'display': <function display at 0x1030b3ba0>,\n",
      "                  'divmod': <built-in function divmod>,\n",
      "                  'enumerate': <class 'enumerate'>,\n",
      "                  'eval': <built-in function eval>,\n",
      "                  'exec': <built-in function exec>,\n",
      "                  'execfile': <function execfile at 0x1042a5300>,\n",
      "                  'filter': <class 'filter'>,\n",
      "                  'float': <class 'float'>,\n",
      "                  'format': <built-in function format>,\n",
      "                  'frozenset': <class 'frozenset'>,\n",
      "                  'get_ipython': <bound method InteractiveShell.get_ipython of <ipykernel.zmqshell.ZMQInteractiveShell object at 0x10476ea90>>,\n",
      "                  'getattr': <built-in function getattr>,\n",
      "                  'globals': <built-in function globals>,\n",
      "                  'hasattr': <built-in function hasattr>,\n",
      "                  'hash': <built-in function hash>,\n",
      "                  'help': Type help() for interactive help, or help(object) for help about object.,\n",
      "                  'hex': <built-in function hex>,\n",
      "                  'id': <built-in function id>,\n",
      "                  'input': <bound method Kernel.raw_input of <ipykernel.ipkernel.IPythonKernel object at 0x10476d250>>,\n",
      "                  'int': <class 'int'>,\n",
      "                  'isinstance': <built-in function isinstance>,\n",
      "                  'issubclass': <built-in function issubclass>,\n",
      "                  'iter': <built-in function iter>,\n",
      "                  'len': <built-in function len>,\n",
      "                  'license': Type license() to see the full license text,\n",
      "                  'list': <class 'list'>,\n",
      "                  'locals': <built-in function locals>,\n",
      "                  'map': <class 'map'>,\n",
      "                  'max': <built-in function max>,\n",
      "                  'memoryview': <class 'memoryview'>,\n",
      "                  'min': <built-in function min>,\n",
      "                  'next': <built-in function next>,\n",
      "                  'object': <class 'object'>,\n",
      "                  'oct': <built-in function oct>,\n",
      "                  'open': <built-in function open>,\n",
      "                  'ord': <built-in function ord>,\n",
      "                  'pow': <built-in function pow>,\n",
      "                  'print': <built-in function print>,\n",
      "                  'property': <class 'property'>,\n",
      "                  'range': <class 'range'>,\n",
      "                  'repr': <built-in function repr>,\n",
      "                  'reversed': <class 'reversed'>,\n",
      "                  'round': <built-in function round>,\n",
      "                  'runfile': <function runfile at 0x10437e0c0>,\n",
      "                  'set': <class 'set'>,\n",
      "                  'setattr': <built-in function setattr>,\n",
      "                  'slice': <class 'slice'>,\n",
      "                  'sorted': <built-in function sorted>,\n",
      "                  'staticmethod': <class 'staticmethod'>,\n",
      "                  'str': <class 'str'>,\n",
      "                  'sum': <built-in function sum>,\n",
      "                  'super': <class 'super'>,\n",
      "                  'tuple': <class 'tuple'>,\n",
      "                  'type': <class 'type'>,\n",
      "                  'vars': <built-in function vars>,\n",
      "                  'zip': <class 'zip'>},\n",
      " '__cached__': '/Users/wyliebrown/lpythw/__pycache__/ex26.cpython-311.pyc',\n",
      " '__doc__': None,\n",
      " '__file__': '/Users/wyliebrown/lpythw/ex26.py',\n",
      " '__loader__': <_frozen_importlib_external.SourceFileLoader object at 0x104a0ef90>,\n",
      " '__name__': 'ex26',\n",
      " '__package__': '',\n",
      " '__spec__': ModuleSpec(name='ex26', loader=<_frozen_importlib_external.SourceFileLoader object at 0x104a0ef90>, origin='/Users/wyliebrown/lpythw/ex26.py'),\n",
      " 'food': 'vegetarian',\n",
      " 'height': 74,\n",
      " 'name': 'Zed'}\n"
     ]
    }
   ],
   "source": [
    "from pprint import pprint\n",
    "pprint(ex26.__dict__)"
   ]
  },
  {
   "cell_type": "code",
   "execution_count": 3,
   "id": "3a7409ee-9afa-4d3a-aa54-986931448551",
   "metadata": {},
   "outputs": [
    {
     "name": "stdout",
     "output_type": "stream",
     "text": [
      "I am currently 74 inches tall\n",
      "I am now 1000 inches tall\n",
      "Oops. Now I'm 12 inches tall\n"
     ]
    }
   ],
   "source": [
    "print(f\"I am currently {ex26.height} inches tall\")\n",
    "\n",
    "ex26.__dict__['height'] = 1000\n",
    "print(f\"I am now {ex26.height} inches tall\")\n",
    "\n",
    "ex26.height = 12\n",
    "print(f\"Oops. Now I'm {ex26.__dict__['height']} inches tall\")"
   ]
  },
  {
   "cell_type": "code",
   "execution_count": 4,
   "id": "291c3446-e7a4-4a41-b49f-1b2495f4ee5c",
   "metadata": {},
   "outputs": [
    {
     "data": {
      "text/plain": [
       "<module 'ex26' from '/Users/wyliebrown/lpythw/ex26.py'>"
      ]
     },
     "execution_count": 4,
     "metadata": {},
     "output_type": "execute_result"
    }
   ],
   "source": [
    "from importlib import reload\n",
    "reload(ex26)"
   ]
  },
  {
   "cell_type": "code",
   "execution_count": 14,
   "id": "60964514-937f-4e82-9f7c-72b85b341548",
   "metadata": {},
   "outputs": [
    {
     "name": "stdout",
     "output_type": "stream",
     "text": [
      "'Pretty-print a Python object to a stream [default is sys.stdout].'\n"
     ]
    }
   ],
   "source": [
    "from pprint import pprint\n",
    "pprint(pprint.__doc__)"
   ]
  },
  {
   "cell_type": "code",
   "execution_count": null,
   "id": "afa92635-8da9-484d-b28d-9c0db7c77f19",
   "metadata": {},
   "outputs": [],
   "source": []
  },
  {
   "cell_type": "code",
   "execution_count": null,
   "id": "eda89bc8-87bf-4a65-94fe-65101a174512",
   "metadata": {},
   "outputs": [],
   "source": []
  }
 ],
 "metadata": {
  "kernelspec": {
   "display_name": "Python 3 (ipykernel)",
   "language": "python",
   "name": "python3"
  },
  "language_info": {
   "codemirror_mode": {
    "name": "ipython",
    "version": 3
   },
   "file_extension": ".py",
   "mimetype": "text/x-python",
   "name": "python",
   "nbconvert_exporter": "python",
   "pygments_lexer": "ipython3",
   "version": "3.11.7"
  }
 },
 "nbformat": 4,
 "nbformat_minor": 5
}
