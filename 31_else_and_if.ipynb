{
 "cells": [
  {
   "cell_type": "code",
   "execution_count": 3,
   "id": "30eb5cfb-a5a7-4dea-ab5e-006d9275dbcf",
   "metadata": {},
   "outputs": [
    {
     "name": "stdout",
     "output_type": "stream",
     "text": [
      "We should take the cars.\n",
      "Maybe we could take the trucks.\n",
      "Alright, let's just take the trucks.\n"
     ]
    }
   ],
   "source": [
    "people = 30\n",
    "cars = 40\n",
    "trucks = 15\n",
    "\n",
    "if cars > people:\n",
    "    print(\"We should take the cars.\")\n",
    "elif cars < people:\n",
    "    print(\"We should not take the cars.\")\n",
    "else:\n",
    "    print(\"We can't decide.\")\n",
    "\n",
    "if trucks > cars:\n",
    "    print(\"That's too many trucks.\")\n",
    "elif trucks < cars:\n",
    "    print(\"Maybe we could take the trucks.\")\n",
    "else:\n",
    "    print(\"We still can't decide.\")\n",
    "\n",
    "if people > trucks:\n",
    "    print(\"Alright, let's just take the trucks.\")\n",
    "else:\n",
    "    print(\"Fine. Let's just stay home then.\")"
   ]
  },
  {
   "cell_type": "code",
   "execution_count": 6,
   "id": "3ef7a6a3-a2d6-436d-9360-5148fbb34a0d",
   "metadata": {},
   "outputs": [
    {
     "name": "stdout",
     "output_type": "stream",
     "text": [
      "  0           0 RESUME                   0\n",
      "\n",
      "  2           2 LOAD_NAME                0 (cars)\n",
      "              4 LOAD_NAME                1 (people)\n",
      "              6 COMPARE_OP               4 (>)\n",
      "             12 POP_JUMP_FORWARD_IF_FALSE    13 (to 40)\n",
      "\n",
      "  3          14 PUSH_NULL\n",
      "             16 LOAD_NAME                2 (print)\n",
      "             18 LOAD_CONST               0 ('We should take the cars.')\n",
      "             20 PRECALL                  1\n",
      "             24 CALL                     1\n",
      "             34 POP_TOP\n",
      "             36 LOAD_CONST               3 (None)\n",
      "             38 RETURN_VALUE\n",
      "\n",
      "  4     >>   40 LOAD_NAME                0 (cars)\n",
      "             42 LOAD_NAME                1 (people)\n",
      "             44 COMPARE_OP               0 (<)\n",
      "             50 POP_JUMP_FORWARD_IF_FALSE    13 (to 78)\n",
      "\n",
      "  5          52 PUSH_NULL\n",
      "             54 LOAD_NAME                2 (print)\n",
      "             56 LOAD_CONST               1 ('We should not take the cars.')\n",
      "             58 PRECALL                  1\n",
      "             62 CALL                     1\n",
      "             72 POP_TOP\n",
      "             74 LOAD_CONST               3 (None)\n",
      "             76 RETURN_VALUE\n",
      "\n",
      "  7     >>   78 PUSH_NULL\n",
      "             80 LOAD_NAME                2 (print)\n",
      "             82 LOAD_CONST               2 (\"We can't decide.\")\n",
      "             84 PRECALL                  1\n",
      "             88 CALL                     1\n",
      "             98 POP_TOP\n",
      "            100 LOAD_CONST               3 (None)\n",
      "            102 RETURN_VALUE\n"
     ]
    }
   ],
   "source": [
    "from dis import dis\n",
    "dis('''\n",
    "if cars > people:\n",
    "    print(\"We should take the cars.\")\n",
    "elif cars < people:\n",
    "    print(\"We should not take the cars.\")\n",
    "else:\n",
    "    print(\"We can't decide.\")\n",
    "''')"
   ]
  },
  {
   "cell_type": "code",
   "execution_count": 13,
   "id": "525ac7bf-3df7-42c7-881d-46ac01cd20f9",
   "metadata": {},
   "outputs": [
    {
     "name": "stdin",
     "output_type": "stream",
     "text": [
      "How many zeltzers are left in the fridge?  6\n",
      "How many seltzers do you want to drink today?  9\n"
     ]
    },
    {
     "name": "stdout",
     "output_type": "stream",
     "text": [
      "You better re-stock them seltzies right now girlll!\n"
     ]
    }
   ],
   "source": [
    "#Creating a more complext if, elif, else statement that will consider user input\n",
    "available_seltzers = input(\"How many zeltzers are left in the fridge? \")\n",
    "thirst_for_seltzers = input(\"How many seltzers do you want to drink today? \")\n",
    "\n",
    "available_seltzers = int(available_seltzers)\n",
    "thirst_for_seltzers = int(thirst_for_seltzers)\n",
    "\n",
    "if available_seltzers > thirst_for_seltzers:\n",
    "    print(\"You're good to grab a seltzy!\")\n",
    "elif available_seltzers == thirst_for_seltzers:\n",
    "    print(\"You should order some more seltzies today\")\n",
    "else:\n",
    "    print(\"You better re-stock them seltzies right now girlll!\")"
   ]
  },
  {
   "cell_type": "code",
   "execution_count": null,
   "id": "6ad5e5ce-e2c9-48dc-931c-dec4693a2b97",
   "metadata": {},
   "outputs": [],
   "source": []
  }
 ],
 "metadata": {
  "kernelspec": {
   "display_name": "Python 3 (ipykernel)",
   "language": "python",
   "name": "python3"
  },
  "language_info": {
   "codemirror_mode": {
    "name": "ipython",
    "version": 3
   },
   "file_extension": ".py",
   "mimetype": "text/x-python",
   "name": "python",
   "nbconvert_exporter": "python",
   "pygments_lexer": "ipython3",
   "version": "3.11.7"
  }
 },
 "nbformat": 4,
 "nbformat_minor": 5
}
