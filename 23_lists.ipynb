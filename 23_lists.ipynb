{
 "cells": [
  {
   "cell_type": "code",
   "execution_count": 8,
   "id": "23df5512-caf0-4a2b-9bfe-02fd839b4fc7",
   "metadata": {},
   "outputs": [
    {
     "name": "stdout",
     "output_type": "stream",
     "text": [
      "10\n",
      "['Buick', 10]\n"
     ]
    }
   ],
   "source": [
    "#basic list example\n",
    "fruit = [\"apples\", \"oranges\", \"bananas\"];\n",
    "\n",
    "#3 lists within 1 list\n",
    "inventory = [[\"Buick\", 10], [\"Corvette\", 1], [\"Toyota\", 4]];\n",
    "\n",
    "#Get the buick inventory\n",
    "#inventory[0] retrieves the first element [\"Buick\", 10] \n",
    "#the second line below then takes the buicks[1] element and get the count 10 from it \n",
    "buicks = inventory[0]\n",
    "buick_count = buicks[1]\n",
    "#or in one move you can chain in a sequence. I.e. \"get the 0 element, and then get the 1 element of that\"\n",
    "count_of_buicks = inventory[0][1]\n",
    "\n",
    "print(count_of_buicks)\n",
    "print(buicks)"
   ]
  },
  {
   "cell_type": "code",
   "execution_count": 9,
   "id": "ff4431d3-f112-488a-895a-9e6aee3ed86f",
   "metadata": {},
   "outputs": [],
   "source": [
    "#List testing time "
   ]
  },
  {
   "cell_type": "code",
   "execution_count": 10,
   "id": "122ef865-8017-43ab-b786-f632334a3177",
   "metadata": {},
   "outputs": [],
   "source": [
    "fruit = [\n",
    "    ['Apples', 12, 'AAA'], ['Oranges', 1, 'B'],\n",
    "    ['Pears', 2, 'A'], ['Grapes', 14, 'UR']]\n",
    "\n",
    "cars = [\n",
    "    ['Cadillac', ['Black', 'Big', 34500]],\n",
    "    ['Corvette', ['Red', 'Little', 1000000]],\n",
    "    ['Ford', ['Blue', 'Medium', 1234]],\n",
    "    ['BMW', ['White', 'Baby', 7890]]\n",
    "]\n",
    "\n",
    "languages = [\n",
    "    ['Python', ['Slow', ['Terrible', 'Mush']]],\n",
    "    ['JavaSCript', ['Moderate', ['Alright', 'Bizarre']]],\n",
    "    ['Perl6', ['Moderate', ['Fun', 'Weird']]],\n",
    "    ['C', ['Fast', ['Annoying', 'Dangerous']]],\n",
    "    ['Forth', ['Fast', ['Fun', 'Difficult']]],\n",
    "]"
   ]
  },
  {
   "cell_type": "code",
   "execution_count": 53,
   "id": "b9594475-eb18-4d2d-906a-a1acf13a0539",
   "metadata": {},
   "outputs": [
    {
     "name": "stdout",
     "output_type": "stream",
     "text": [
      "12\n",
      "AAA\n",
      "2\n",
      "Oranges\n",
      "Grapes\n",
      "14\n",
      "Apples\n",
      "Big\n",
      "Red\n",
      "1234\n",
      "White\n",
      "7890\n",
      "Black\n",
      "34500\n",
      "Blue\n",
      "Slow\n",
      "Alright\n",
      "Dangerous\n",
      "Fast\n",
      "Fast\n",
      "Difficult\n",
      "Fun\n",
      "Annoying\n",
      "Weird\n",
      "Moderate\n"
     ]
    }
   ],
   "source": [
    "#fruits\n",
    "print(fruit[0][1])\n",
    "print(fruit[0][2])\n",
    "print(fruit[2][1])\n",
    "print(fruit[1][0])\n",
    "print(fruit[3][0])\n",
    "print(fruit[3][1])\n",
    "print(fruit[0][0])\n",
    "#cars\n",
    "print(cars[0][1][1])\n",
    "print(cars[1][1][0])\n",
    "print(cars[2][1][2])\n",
    "print(cars[3][1][0])\n",
    "print(cars[3][1][2])\n",
    "print(cars[0][1][0])\n",
    "print(cars[0][1][2])\n",
    "print(cars[2][1][0])\n",
    "#languages\n",
    "print(languages[0][1][0])\n",
    "print(languages[1][1][1][0])\n",
    "print(languages[3][1][1][1])\n",
    "print(languages[4][1][0])\n",
    "print(languages[3][1][0])\n",
    "print(languages[4][1][1][1])\n",
    "print(languages[2][1][1][0])\n",
    "print(languages[3][1][1][0])\n",
    "print(languages[2][1][1][1])\n",
    "print(languages[2][1][0])"
   ]
  },
  {
   "cell_type": "code",
   "execution_count": 54,
   "id": "f4cf9cf6-ac01-4e51-a364-ce4cc21a1d5b",
   "metadata": {},
   "outputs": [],
   "source": [
    "#Little red Corvette baby UR mush 2 fast"
   ]
  },
  {
   "cell_type": "code",
   "execution_count": 56,
   "id": "7f077b3d-195f-432d-83bd-66edaf72c42f",
   "metadata": {},
   "outputs": [
    {
     "name": "stdout",
     "output_type": "stream",
     "text": [
      "Little\n",
      "Red\n",
      "Corvette\n",
      "Baby\n",
      "UR\n",
      "Mush\n",
      "2\n",
      "Fast\n"
     ]
    }
   ],
   "source": [
    "print(cars[1][1][1])\n",
    "print(cars[1][1][0])\n",
    "print(cars[1][0])\n",
    "print(cars[3][1][1])\n",
    "print(fruit[3][2])\n",
    "print(languages[0][1][1][1])\n",
    "print(fruit[2][1])\n",
    "print(languages[3][1][0])"
   ]
  },
  {
   "cell_type": "code",
   "execution_count": null,
   "id": "10a969b1-5c1c-4d37-bdb3-46912c0ad93f",
   "metadata": {},
   "outputs": [],
   "source": []
  }
 ],
 "metadata": {
  "kernelspec": {
   "display_name": "Python 3 (ipykernel)",
   "language": "python",
   "name": "python3"
  },
  "language_info": {
   "codemirror_mode": {
    "name": "ipython",
    "version": 3
   },
   "file_extension": ".py",
   "mimetype": "text/x-python",
   "name": "python",
   "nbconvert_exporter": "python",
   "pygments_lexer": "ipython3",
   "version": "3.11.7"
  }
 },
 "nbformat": 4,
 "nbformat_minor": 5
}
