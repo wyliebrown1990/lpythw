{
 "cells": [
  {
   "cell_type": "code",
   "execution_count": 2,
   "id": "05bfabae-4bca-4dd0-936e-141e305556c4",
   "metadata": {},
   "outputs": [
    {
     "name": "stdin",
     "output_type": "stream",
     "text": [
      "Give me a random number between 0 and 100:  55\n"
     ]
    },
    {
     "name": "stdout",
     "output_type": "stream",
     "text": [
      "Sorry your guess is higher than what I'm thinking\n"
     ]
    },
    {
     "name": "stdin",
     "output_type": "stream",
     "text": [
      "Give me a random number between 0 and 100:  65\n"
     ]
    },
    {
     "name": "stdout",
     "output_type": "stream",
     "text": [
      "Sorry your guess is higher than what I'm thinking\n"
     ]
    },
    {
     "name": "stdin",
     "output_type": "stream",
     "text": [
      "Give me a random number between 0 and 100:  75\n"
     ]
    },
    {
     "name": "stdout",
     "output_type": "stream",
     "text": [
      "Sorry your guess is higher than what I'm thinking\n"
     ]
    },
    {
     "name": "stdin",
     "output_type": "stream",
     "text": [
      "Give me a random number between 0 and 100:  85\n"
     ]
    },
    {
     "name": "stdout",
     "output_type": "stream",
     "text": [
      "Sorry your guess is higher than what I'm thinking\n"
     ]
    },
    {
     "name": "stdin",
     "output_type": "stream",
     "text": [
      "Give me a random number between 0 and 100:  95\n"
     ]
    },
    {
     "name": "stdout",
     "output_type": "stream",
     "text": [
      "Sorry your guess is higher than what I'm thinking\n"
     ]
    },
    {
     "name": "stdin",
     "output_type": "stream",
     "text": [
      "Give me a random number between 0 and 100:  99\n"
     ]
    },
    {
     "name": "stdout",
     "output_type": "stream",
     "text": [
      "Sorry your guess is higher than what I'm thinking\n"
     ]
    },
    {
     "name": "stdin",
     "output_type": "stream",
     "text": [
      "Give me a random number between 0 and 100:  100\n"
     ]
    },
    {
     "name": "stdout",
     "output_type": "stream",
     "text": [
      "Sorry your guess is higher than what I'm thinking\n"
     ]
    },
    {
     "name": "stdin",
     "output_type": "stream",
     "text": [
      "Give me a random number between 0 and 100:  200\n"
     ]
    },
    {
     "name": "stdout",
     "output_type": "stream",
     "text": [
      "Sorry your guess is higher than what I'm thinking\n"
     ]
    },
    {
     "name": "stdin",
     "output_type": "stream",
     "text": [
      "Give me a random number between 0 and 100:  500\n"
     ]
    },
    {
     "name": "stdout",
     "output_type": "stream",
     "text": [
      "Sorry your guess is higher than what I'm thinking\n"
     ]
    },
    {
     "name": "stdin",
     "output_type": "stream",
     "text": [
      "Give me a random number between 0 and 100:  600\n"
     ]
    },
    {
     "name": "stdout",
     "output_type": "stream",
     "text": [
      "Sorry your guess is higher than what I'm thinking\n"
     ]
    },
    {
     "ename": "KeyboardInterrupt",
     "evalue": "Interrupted by user",
     "output_type": "error",
     "traceback": [
      "\u001b[0;31m---------------------------------------------------------------------------\u001b[0m",
      "\u001b[0;31mKeyboardInterrupt\u001b[0m                         Traceback (most recent call last)",
      "Cell \u001b[0;32mIn[2], line 21\u001b[0m\n\u001b[1;32m     18\u001b[0m \u001b[38;5;66;03m# Step 3: Print feedback to user about whether guess is too high, too low, or correct\u001b[39;00m\n\u001b[1;32m     19\u001b[0m \u001b[38;5;28;01mwhile\u001b[39;00m \u001b[38;5;28;01mTrue\u001b[39;00m:\n\u001b[1;32m     20\u001b[0m     \u001b[38;5;66;03m# Input from the user a number (integer)\u001b[39;00m\n\u001b[0;32m---> 21\u001b[0m     users_guess \u001b[38;5;241m=\u001b[39m \u001b[38;5;28mint\u001b[39m(\u001b[38;5;28minput\u001b[39m(\u001b[38;5;124m\"\u001b[39m\u001b[38;5;124mGive me a random number between 0 and 100: \u001b[39m\u001b[38;5;124m\"\u001b[39m))\n\u001b[1;32m     23\u001b[0m     \u001b[38;5;28;01mif\u001b[39;00m users_guess \u001b[38;5;241m<\u001b[39m random_number:\n\u001b[1;32m     24\u001b[0m         \u001b[38;5;28mprint\u001b[39m(\u001b[38;5;124m\"\u001b[39m\u001b[38;5;124mSorry your guess is lower than what I\u001b[39m\u001b[38;5;124m'\u001b[39m\u001b[38;5;124mm thinking\u001b[39m\u001b[38;5;124m\"\u001b[39m)\n",
      "File \u001b[0;32m/opt/anaconda3/lib/python3.11/site-packages/ipykernel/kernelbase.py:1262\u001b[0m, in \u001b[0;36mKernel.raw_input\u001b[0;34m(self, prompt)\u001b[0m\n\u001b[1;32m   1260\u001b[0m     msg \u001b[38;5;241m=\u001b[39m \u001b[38;5;124m\"\u001b[39m\u001b[38;5;124mraw_input was called, but this frontend does not support input requests.\u001b[39m\u001b[38;5;124m\"\u001b[39m\n\u001b[1;32m   1261\u001b[0m     \u001b[38;5;28;01mraise\u001b[39;00m StdinNotImplementedError(msg)\n\u001b[0;32m-> 1262\u001b[0m \u001b[38;5;28;01mreturn\u001b[39;00m \u001b[38;5;28mself\u001b[39m\u001b[38;5;241m.\u001b[39m_input_request(\n\u001b[1;32m   1263\u001b[0m     \u001b[38;5;28mstr\u001b[39m(prompt),\n\u001b[1;32m   1264\u001b[0m     \u001b[38;5;28mself\u001b[39m\u001b[38;5;241m.\u001b[39m_parent_ident[\u001b[38;5;124m\"\u001b[39m\u001b[38;5;124mshell\u001b[39m\u001b[38;5;124m\"\u001b[39m],\n\u001b[1;32m   1265\u001b[0m     \u001b[38;5;28mself\u001b[39m\u001b[38;5;241m.\u001b[39mget_parent(\u001b[38;5;124m\"\u001b[39m\u001b[38;5;124mshell\u001b[39m\u001b[38;5;124m\"\u001b[39m),\n\u001b[1;32m   1266\u001b[0m     password\u001b[38;5;241m=\u001b[39m\u001b[38;5;28;01mFalse\u001b[39;00m,\n\u001b[1;32m   1267\u001b[0m )\n",
      "File \u001b[0;32m/opt/anaconda3/lib/python3.11/site-packages/ipykernel/kernelbase.py:1305\u001b[0m, in \u001b[0;36mKernel._input_request\u001b[0;34m(self, prompt, ident, parent, password)\u001b[0m\n\u001b[1;32m   1302\u001b[0m \u001b[38;5;28;01mexcept\u001b[39;00m \u001b[38;5;167;01mKeyboardInterrupt\u001b[39;00m:\n\u001b[1;32m   1303\u001b[0m     \u001b[38;5;66;03m# re-raise KeyboardInterrupt, to truncate traceback\u001b[39;00m\n\u001b[1;32m   1304\u001b[0m     msg \u001b[38;5;241m=\u001b[39m \u001b[38;5;124m\"\u001b[39m\u001b[38;5;124mInterrupted by user\u001b[39m\u001b[38;5;124m\"\u001b[39m\n\u001b[0;32m-> 1305\u001b[0m     \u001b[38;5;28;01mraise\u001b[39;00m \u001b[38;5;167;01mKeyboardInterrupt\u001b[39;00m(msg) \u001b[38;5;28;01mfrom\u001b[39;00m \u001b[38;5;28;01mNone\u001b[39;00m\n\u001b[1;32m   1306\u001b[0m \u001b[38;5;28;01mexcept\u001b[39;00m \u001b[38;5;167;01mException\u001b[39;00m:\n\u001b[1;32m   1307\u001b[0m     \u001b[38;5;28mself\u001b[39m\u001b[38;5;241m.\u001b[39mlog\u001b[38;5;241m.\u001b[39mwarning(\u001b[38;5;124m\"\u001b[39m\u001b[38;5;124mInvalid Message:\u001b[39m\u001b[38;5;124m\"\u001b[39m, exc_info\u001b[38;5;241m=\u001b[39m\u001b[38;5;28;01mTrue\u001b[39;00m)\n",
      "\u001b[0;31mKeyboardInterrupt\u001b[0m: Interrupted by user"
     ]
    }
   ],
   "source": [
    "#Prompt: Write a Python program that simulates a simple guessing game. \n",
    "#The program should generate a random number between 1 and 100 (inclusive). \n",
    "#Then, it should repeatedly prompt the user to guess the number. \n",
    "#After each guess, the program should provide feedback to the user indicating whether the guess is too high, too low, or correct. \n",
    "#The game should continue until the user correctly guesses the number. Use a while loop to implement the game.\n",
    "\n",
    "#Step 1: generate a random number between 1 and 100 (inclusive)\n",
    "#Step 2: input from user a number (integer)\n",
    "#Step 3: print feedback to user about whether guess is too high, too low, or correct\n",
    "#Step 4: Continue prompting guesses until number guessed is correct\n",
    "\n",
    "#library for random results\n",
    "import random\n",
    "\n",
    "# Step 1: Generate a random number between 1 and 100 (inclusive)\n",
    "random_number = random.randint(1, 100)\n",
    "\n",
    "# Step 3: Print feedback to user about whether guess is too high, too low, or correct\n",
    "while True:\n",
    "    # Input from the user a number (integer)\n",
    "    users_guess = int(input(\"Give me a random number between 0 and 100: \"))\n",
    "    if users_guess < random_number:\n",
    "        print(\"Sorry your guess is lower than what I'm thinking\")\n",
    "    elif users_guess > random_number:\n",
    "        print(\"Sorry your guess is higher than what I'm thinking\")\n",
    "    else:\n",
    "        print(\"That's it you got it!\")\n",
    "        break"
   ]
  },
  {
   "cell_type": "code",
   "execution_count": null,
   "id": "484fa82e-1a23-4463-8b62-c98ed12189a1",
   "metadata": {},
   "outputs": [],
   "source": []
  },
  {
   "cell_type": "code",
   "execution_count": 6,
   "id": "56bae23e-f2d1-4115-b593-9b5a4d3c68c2",
   "metadata": {},
   "outputs": [
    {
     "name": "stdout",
     "output_type": "stream",
     "text": [
      "6°C is 42.8°F.\n",
      "100°C is 212.0°F.\n",
      "12°C is 53.6°F.\n",
      "-40°C is -40.0°F.\n",
      "15°C is 59.0°F.\n"
     ]
    }
   ],
   "source": [
    "#Task: Create a Temperature Converter\n",
    "#You're going to write a program that converts temperatures from Celsius to Fahrenheit for a list of Celsius temperatures. \n",
    "#This program will be your first step towards mastering the art of looping through sequences in Python.\n",
    "\n",
    "# List of temperatures in Celsius\n",
    "celsius_temperatures = [6, 100, 12, -40, 15]\n",
    "\n",
    "# Creating a function to handle the conversion work\n",
    "def celsius_converter(celsius):\n",
    "    fahrenheit = (celsius * 9/5) + 32\n",
    "    return fahrenheit\n",
    "\n",
    "# Creating a for loop to run through the list using the converter function\n",
    "for element in celsius_temperatures:\n",
    "    # Convert the current element from Celsius to Fahrenheit\n",
    "    fahrenheit = celsius_converter(element)\n",
    "    # Print the conversion in a formatted manner\n",
    "    print(f\"{element}°C is {fahrenheit}°F.\")"
   ]
  },
  {
   "cell_type": "code",
   "execution_count": 4,
   "id": "b38c5b9f-e2db-44ba-b589-1a4a70d2749b",
   "metadata": {},
   "outputs": [
    {
     "name": "stdout",
     "output_type": "stream",
     "text": [
      "False\n",
      "True\n",
      "False\n",
      "True\n",
      "False\n"
     ]
    }
   ],
   "source": [
    "'''\n",
    "Task: The Palindrome Detector\n",
    "Your mission, should you choose to embrace it, involves creating a tool of unparalleled utility in the realm of strings—a Palindrome Detector. \n",
    "Palindromes, as you might know, are words, phrases, or sequences of characters that read the same backward as forward, ignoring spaces, punctuation, and capitalization. \n",
    "Examples include \"radar\", \"Madam, in Eden, I'm Adam\", and \"Able was I ere I saw Elba\".\n",
    "\n",
    "Requirements:\n",
    "Sample Palindromes: First, create a list named sample_texts that contains at least five strings. \n",
    "Mix it up with some palindromes and some non-palindromes to test your function's discerning eye.\n",
    "\n",
    "The Palindrome Function: Craft a function named is_palindrome that takes a single string argument. \n",
    "This function will return True if the string is a palindrome and False otherwise.\n",
    "\n",
    "Normalization: Inside your function, ensure you remove spaces and convert the string to lower case to ensure accuracy regardless of input format.\n",
    "\n",
    "Reversal Check: Compare the normalized string to its reverse to determine if it's a palindrome.\n",
    "\n",
    "The For Loop: Use a for loop to iterate over each string in your sample_texts list, passing each one to your is_palindrome function.\n",
    "\n",
    "Reporting: For each string, print a message stating whether it is a palindrome.\n",
    "'''\n",
    "\n",
    "sample_texts = [\"dodge\", \"madam\", \"bullet\", \"radar\", \"now\"]\n",
    "\n",
    "def is_palindrome(text):\n",
    "    word = str(text).lower().replace(\" \", \"\") #ensure you remove spaces and convert the string to lower case to ensure accuracy regardless of input format.\n",
    "    backwards_word = word[ : : -1]\n",
    "    return backwards_word == word\n",
    "\n",
    "for element in sample_texts:\n",
    "    if is_palindrome(element):\n",
    "        print(\"True\")\n",
    "    else:\n",
    "        print(\"False\")"
   ]
  },
  {
   "cell_type": "code",
   "execution_count": 5,
   "id": "a4303584-2e64-4bf6-97dd-4f62c25340b6",
   "metadata": {},
   "outputs": [
    {
     "name": "stdout",
     "output_type": "stream",
     "text": [
      "238\n"
     ]
    }
   ],
   "source": [
    "#count my pushups from earlier\n",
    "\n",
    "reps = [40, 30, 40, 30, 39, 29, 30]\n",
    "count = 0\n",
    "\n",
    "for element in reps:\n",
    "    count = count + element\n",
    "\n",
    "print(count)"
   ]
  },
  {
   "cell_type": "code",
   "execution_count": 13,
   "id": "b5e68f3f-3ec1-4e3b-a61b-716cb715d681",
   "metadata": {},
   "outputs": [
    {
     "name": "stdout",
     "output_type": "stream",
     "text": [
      "Sheep 1 jumped over the fence.\n",
      "Sheep 2 jumped over the fence.\n",
      "Sheep 3 jumped over the fence.\n",
      "Sheep 4 jumped over the fence.\n",
      "Sheep 5 jumped over the fence.\n",
      "Sheep 6 jumped over the fence.\n",
      "Sheep 7 jumped over the fence.\n",
      "Sheep 8 jumped over the fence.\n",
      "Sheep 9 jumped over the fence.\n",
      "Sheep 10 jumped over the fence.\n",
      "Zzzz... Goodnight!\n"
     ]
    }
   ],
   "source": [
    "#Write a Python program that simulates counting sheep to fall asleep. \n",
    "#Your program should use a while loop to print out the message \"Sheep [number] jumped over the fence.\" \n",
    "#Replace [number] with the actual number of the sheep, starting from 1. \n",
    "#Your loop should run until 10 sheep have jumped over the fence. \n",
    "#After the loop finishes, print out the message \"Zzzz... Goodnight!\"\n",
    "\n",
    "sheep = 1 #initialize the sheep variable starting at 1\n",
    "\n",
    "while sheep <= 10:\n",
    "    print(f\"Sheep {sheep} jumped over the fence.\")\n",
    "    sheep += 1\n",
    "\n",
    "print(\"Zzzz... Goodnight!\")"
   ]
  },
  {
   "cell_type": "code",
   "execution_count": 18,
   "id": "600472ab-d9d3-418b-840f-1d59126f22d3",
   "metadata": {},
   "outputs": [
    {
     "name": "stdin",
     "output_type": "stream",
     "text": [
      "Give us a number between 1 and 100:  50\n"
     ]
    },
    {
     "name": "stdout",
     "output_type": "stream",
     "text": [
      "Too high, try again.\n"
     ]
    },
    {
     "name": "stdin",
     "output_type": "stream",
     "text": [
      "Give us a number between 1 and 100:  25\n"
     ]
    },
    {
     "name": "stdout",
     "output_type": "stream",
     "text": [
      "Too high, try again.\n"
     ]
    },
    {
     "name": "stdin",
     "output_type": "stream",
     "text": [
      "Give us a number between 1 and 100:  13\n"
     ]
    },
    {
     "name": "stdout",
     "output_type": "stream",
     "text": [
      "Too low, try again.\n"
     ]
    },
    {
     "name": "stdin",
     "output_type": "stream",
     "text": [
      "Give us a number between 1 and 100:  15\n"
     ]
    },
    {
     "name": "stdout",
     "output_type": "stream",
     "text": [
      "Too low, try again.\n"
     ]
    },
    {
     "name": "stdin",
     "output_type": "stream",
     "text": [
      "Give us a number between 1 and 100:  20\n"
     ]
    },
    {
     "name": "stdout",
     "output_type": "stream",
     "text": [
      "Too high, try again.\n"
     ]
    },
    {
     "name": "stdin",
     "output_type": "stream",
     "text": [
      "Give us a number between 1 and 100:  17\n"
     ]
    },
    {
     "name": "stdout",
     "output_type": "stream",
     "text": [
      "Too low, try again.\n"
     ]
    },
    {
     "name": "stdin",
     "output_type": "stream",
     "text": [
      "Give us a number between 1 and 100:  18\n"
     ]
    },
    {
     "name": "stdout",
     "output_type": "stream",
     "text": [
      "Congratulations! You guessed it right!\n"
     ]
    }
   ],
   "source": [
    "#Create a simple number guessing game using Python. \n",
    "#The program should randomly select a number between 1 and 100, and then prompt the user to guess the number. \n",
    "#The user should have a maximum of 10 attempts to guess the number. Here are the specific requirements:\n",
    "\n",
    "#Use a for loop to limit the number of guesses to 10.\n",
    "#Inside the for loop, use a while loop to ensure that the user inputs a valid guess (i.e., the guess should be a number between 1 and 100. If the guess is not valid, the program should ask for another guess without counting it against the 10 attempts).\n",
    "#After each valid guess, the program should provide feedback:\n",
    "#If the guess is too high, print \"Too high, try again.\"\n",
    "#If the guess is too low, print \"Too low, try again.\"\n",
    "#If the guess is correct, print \"Congratulations! You guessed it right!\" and end the loop early.\n",
    "#If the user doesn't guess the number after 10 attempts, print \"Sorry, you've run out of guesses. The number was [number].\" \n",
    "\n",
    "import random  # library for random results\n",
    "\n",
    "# Step 1: Generate a random number between 1 and 100 (inclusive)\n",
    "random_number = random.randint(1, 100)\n",
    "guesses = 0\n",
    "\n",
    "while guesses < 10:\n",
    "    try:\n",
    "        guess = int(input(\"Give us a number between 1 and 100: \"))\n",
    "        if guess < 1 or guess > 100:\n",
    "            print(\"Your guess is out of the valid range. Please try again.\")\n",
    "            continue\n",
    "        if guess > random_number:\n",
    "            print(\"Too high, try again.\")\n",
    "        elif guess < random_number:\n",
    "            print(\"Too low, try again.\")\n",
    "        else:\n",
    "            print(\"Congratulations! You guessed it right!\")\n",
    "            break\n",
    "        guesses += 1\n",
    "    except ValueError:\n",
    "        print(\"That's not a valid number. Please enter a valid number.\")\n",
    "\n",
    "if guesses >= 10:\n",
    "    print(f\"Sorry, you've run out of guesses. The number was {random_number}.\")"
   ]
  },
  {
   "cell_type": "code",
   "execution_count": null,
   "id": "0227077c-6d40-4607-8d2a-5a5e41b1b152",
   "metadata": {},
   "outputs": [],
   "source": []
  }
 ],
 "metadata": {
  "kernelspec": {
   "display_name": "Python 3 (ipykernel)",
   "language": "python",
   "name": "python3"
  },
  "language_info": {
   "codemirror_mode": {
    "name": "ipython",
    "version": 3
   },
   "file_extension": ".py",
   "mimetype": "text/x-python",
   "name": "python",
   "nbconvert_exporter": "python",
   "pygments_lexer": "ipython3",
   "version": "3.11.7"
  }
 },
 "nbformat": 4,
 "nbformat_minor": 5
}
