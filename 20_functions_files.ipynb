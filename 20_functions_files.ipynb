{
 "cells": [
  {
   "cell_type": "code",
   "execution_count": 16,
   "id": "819577fb-2289-4ea8-8552-4b6a5831f2e8",
   "metadata": {},
   "outputs": [
    {
     "name": "stdout",
     "output_type": "stream",
     "text": [
      "First let's print the whole file:\n",
      "\n",
      "This is line 1\n",
      "This is line 2\n",
      "This is line 3\n",
      "\n",
      "\n",
      "Now let's rewind. Kind of like a tape.\n",
      "\n",
      "Let's print 3 lines:\n",
      "\n",
      "1 This is line 1\n",
      "\n",
      "2 This is line 2\n",
      "\n",
      "3 This is line 3\n"
     ]
    }
   ],
   "source": [
    "#From the sys module import argv variable to allow for a list of arguments in your script\n",
    "from sys import argv\n",
    "#create a variable with a string for a name that is a txt file\n",
    "input_file = \"ex20_test.txt\"\n",
    "\n",
    "#create a function called print_all which is passed an argument of f. \n",
    "#When run, it will read and print the argument f\n",
    "def print_all(f):\n",
    "    print(f.read())\n",
    "\n",
    "#create a function called rewind which is passed an argument of f. \n",
    "#When run, moves the file cursor (the marker that indicates the current position in the file) to the beginning of the file (position 0)\n",
    "def rewind(f):\n",
    "    f.seek(0)\n",
    "#create a function called print_a_line that is passed 2 arguments. \n",
    "#When run, the readline method reads the next line from the file f. \n",
    "#The print function then prints the line_count followed by the line read from the file.\n",
    "def print_a_line(line_count, f):\n",
    "    print(line_count, f.readline())\n",
    "\n",
    "#creates the variable current_file to open the input_file variable\n",
    "current_file = open(input_file)\n",
    "\n",
    "print(\"First let's print the whole file:\\n\")\n",
    "\n",
    "#prints the entirety of the current file\n",
    "print_all(current_file)\n",
    "print(\"\\n\")\n",
    "print(\"Now let's rewind. Kind of like a tape.\\n\")\n",
    "\n",
    "#runs the rewind function, which moves the cursor to the beginning of the file\n",
    "rewind(current_file)\n",
    "\n",
    "print(\"Let's print 3 lines:\\n\")\n",
    "\n",
    "#Initializes the variable current_line with value of 1\n",
    "#calls the print_a_line functions with arguments current_line, current_file\n",
    "current_line = 1\n",
    "print_a_line(current_line, current_file)\n",
    "\n",
    "#Increments the current_line cariable with 1 + 1 = 2\n",
    "#calls the print_a_line functions with arguments current_line, current_file\n",
    "current_line = current_line + 1\n",
    "print_a_line(current_line, current_file)\n",
    "\n",
    "#Increments the current_line cariable with 2 + 1 = 3\n",
    "#calls the print_a_line functions with arguments current_line, current_file\n",
    "current_line = current_line + 1\n",
    "print_a_line(current_line, current_file)"
   ]
  },
  {
   "cell_type": "code",
   "execution_count": 17,
   "id": "5918b897-c89f-4c5c-ae3d-e3d193fb47d1",
   "metadata": {},
   "outputs": [
    {
     "ename": "NameError",
     "evalue": "name 'file_object' is not defined",
     "output_type": "error",
     "traceback": [
      "\u001b[0;31m---------------------------------------------------------------------------\u001b[0m",
      "\u001b[0;31mNameError\u001b[0m                                 Traceback (most recent call last)",
      "Cell \u001b[0;32mIn[17], line 10\u001b[0m\n\u001b[1;32m      1\u001b[0m \u001b[38;5;66;03m#In Python, the seek() function is used to change the current position (or offset) of the file pointer within a file. The file pointer indicates the current position in the file from which the next read or write operation will occur.\u001b[39;00m\n\u001b[1;32m      2\u001b[0m \u001b[38;5;66;03m#The seek() function takes two parameters:\u001b[39;00m\n\u001b[1;32m      3\u001b[0m \n\u001b[0;32m   (...)\u001b[0m\n\u001b[1;32m      8\u001b[0m \u001b[38;5;66;03m#2 (or os.SEEK_END): Sets the offset relative to the end of the file.\u001b[39;00m\n\u001b[1;32m      9\u001b[0m \u001b[38;5;66;03m#Here's the general syntax of the seek() function:\u001b[39;00m\n\u001b[0;32m---> 10\u001b[0m file_object\u001b[38;5;241m.\u001b[39mseek(offset, whence)\n",
      "\u001b[0;31mNameError\u001b[0m: name 'file_object' is not defined"
     ]
    }
   ],
   "source": [
    "#In Python, the seek() function is used to change the current position (or offset) of the file pointer within a file. The file pointer indicates the current position in the file from which the next read or write operation will occur.\n",
    "#The seek() function takes two parameters:\n",
    "\n",
    "#offset: This parameter specifies the number of bytes to move the file pointer. Positive values move the pointer forward, negative values move it backward, and zero sets it to the beginning of the file.\n",
    "#whence (optional): This parameter specifies the reference point for the offset. It can take one of three values:\n",
    "#0 (or os.SEEK_SET): Sets the offset from the beginning of the file (default behavior).\n",
    "#1 (or os.SEEK_CUR): Sets the offset relative to the current position of the file pointer.\n",
    "#2 (or os.SEEK_END): Sets the offset relative to the end of the file.\n",
    "#Here's the general syntax of the seek() function:\n",
    "file_object.seek(offset, whence)"
   ]
  },
  {
   "cell_type": "code",
   "execution_count": 20,
   "id": "e2df90d8-130f-4f31-b4e4-2670fd285d8d",
   "metadata": {},
   "outputs": [
    {
     "ename": "SyntaxError",
     "evalue": "invalid syntax (226725847.py, line 1)",
     "output_type": "error",
     "traceback": [
      "\u001b[0;36m  Cell \u001b[0;32mIn[20], line 1\u001b[0;36m\u001b[0m\n\u001b[0;31m    pydoc file.seek\u001b[0m\n\u001b[0m          ^\u001b[0m\n\u001b[0;31mSyntaxError\u001b[0m\u001b[0;31m:\u001b[0m invalid syntax\n"
     ]
    }
   ],
   "source": []
  },
  {
   "cell_type": "code",
   "execution_count": 22,
   "id": "8bc6c35f-8ee7-4c7e-bc61-1a63d1ff25aa",
   "metadata": {},
   "outputs": [
    {
     "name": "stdout",
     "output_type": "stream",
     "text": [
      "First let's print the whole file:\n",
      "\n",
      "This is line 1\n",
      "This is line 2\n",
      "This is line 3\n",
      "\n",
      "\n",
      "Now let's rewind. Kind of like a tape.\n",
      "\n",
      "Let's print 3 lines:\n",
      "\n",
      "1 This is line 1\n",
      "\n",
      "2 This is line 2\n",
      "\n",
      "3 This is line 3\n"
     ]
    }
   ],
   "source": [
    "#The shorthand notation += is a compound assignment operator in Python. \n",
    "#It is used to add the value on the right-hand side to the variable on the left-hand side and then assign the result back to the variable.\n",
    "\n",
    "#From the sys module import argv variable to allow for a list of arguments in your script\n",
    "from sys import argv\n",
    "#create a variable with a string for a name that is a txt file\n",
    "input_file = \"ex20_test.txt\"\n",
    "\n",
    "#create a function called print_all which is passed an argument of f. \n",
    "#When run, it will read and print the argument f\n",
    "def print_all(f):\n",
    "    print(f.read())\n",
    "\n",
    "#create a function called rewind which is passed an argument of f. \n",
    "#When run, moves the file cursor (the marker that indicates the current position in the file) to the beginning of the file (position 0)\n",
    "def rewind(f):\n",
    "    f.seek(0)\n",
    "#create a function called print_a_line that is passed 2 arguments. \n",
    "#When run, the readline method reads the next line from the file f. \n",
    "#The print function then prints the line_count followed by the line read from the file.\n",
    "def print_a_line(line_count, f):\n",
    "    print(line_count, f.readline())\n",
    "\n",
    "#creates the variable current_file to open the input_file variable\n",
    "current_file = open(input_file)\n",
    "\n",
    "print(\"First let's print the whole file:\\n\")\n",
    "\n",
    "#prints the entirety of the current file\n",
    "print_all(current_file)\n",
    "print(\"\\n\")\n",
    "print(\"Now let's rewind. Kind of like a tape.\\n\")\n",
    "\n",
    "#runs the rewind function, which moves the cursor to the beginning of the file\n",
    "rewind(current_file)\n",
    "\n",
    "print(\"Let's print 3 lines:\\n\")\n",
    "\n",
    "#Initializes the variable current_line with value of 1\n",
    "#calls the print_a_line functions with arguments current_line, current_file\n",
    "current_line = 1\n",
    "print_a_line(current_line, current_file)\n",
    "\n",
    "#Increments the current_line cariable with 1 + 1 = 2\n",
    "#calls the print_a_line functions with arguments current_line, current_file\n",
    "current_line += 1\n",
    "print_a_line(current_line, current_file)\n",
    "\n",
    "#Increments the current_line cariable with 2 + 1 = 3\n",
    "#calls the print_a_line functions with arguments current_line, current_file\n",
    "current_line += 1\n",
    "print_a_line(current_line, current_file)"
   ]
  },
  {
   "cell_type": "code",
   "execution_count": null,
   "id": "cb899b43-9250-48ec-94e4-317655b1103c",
   "metadata": {},
   "outputs": [],
   "source": []
  }
 ],
 "metadata": {
  "kernelspec": {
   "display_name": "Python 3 (ipykernel)",
   "language": "python",
   "name": "python3"
  },
  "language_info": {
   "codemirror_mode": {
    "name": "ipython",
    "version": 3
   },
   "file_extension": ".py",
   "mimetype": "text/x-python",
   "name": "python",
   "nbconvert_exporter": "python",
   "pygments_lexer": "ipython3",
   "version": "3.11.7"
  }
 },
 "nbformat": 4,
 "nbformat_minor": 5
}
