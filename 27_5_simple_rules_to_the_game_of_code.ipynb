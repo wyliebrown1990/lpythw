{
 "cells": [
  {
   "cell_type": "code",
   "execution_count": 5,
   "id": "19419f58-a387-45a2-afad-486e6c6731c0",
   "metadata": {},
   "outputs": [
    {
     "name": "stdout",
     "output_type": "stream",
     "text": [
      "30\n",
      "  0           0 RESUME                   0\n",
      "\n",
      "  2           2 LOAD_CONST               0 (10)\n",
      "              4 STORE_NAME               0 (x)\n",
      "\n",
      "  3           6 LOAD_CONST               1 (20)\n",
      "              8 STORE_NAME               1 (y)\n",
      "\n",
      "  4          10 LOAD_NAME                0 (x)\n",
      "             12 LOAD_NAME                1 (y)\n",
      "             14 BINARY_OP                0 (+)\n",
      "             18 STORE_NAME               2 (z)\n",
      "             20 LOAD_CONST               2 (None)\n",
      "             22 RETURN_VALUE\n"
     ]
    }
   ],
   "source": [
    "#RULE 1: Everything is a sequence of instructions\n",
    "x = 10\n",
    "y = 20\n",
    "z = x + y\n",
    "\n",
    "#the sequence can be explained below: \n",
    "#LOAD_CONST   0 (10) # load the number 10\n",
    "#STORE_NAME   0 (x)  # store that in x\n",
    "\n",
    "#LOAD_CONST   1 (20) # load the number 20\n",
    "#STORE_NAME   1 (y)  # store that in y\n",
    "\n",
    "#LOAD_NAME    0 (x)  # loads x (which is 10)\n",
    "#LOAD_NAME    1 (y)  # loads y (which is 20)\n",
    "#BINARY_ADD          # adds those\n",
    "#STORE_NAME   2 (z)  # store the result in z\n",
    "print(z)\n",
    "\n",
    "from dis import dis\n",
    "dis('''\n",
    "x = 10\n",
    "y = 20\n",
    "z = x + y\n",
    "''')"
   ]
  },
  {
   "cell_type": "code",
   "execution_count": 5,
   "id": "f34a26dc-ead5-4261-ae02-a1b42223cea6",
   "metadata": {},
   "outputs": [
    {
     "name": "stdout",
     "output_type": "stream",
     "text": [
      "  0           0 RESUME                   0\n",
      "\n",
      "  1     >>    2 LOAD_CONST               1 (10)\n",
      "              4 STORE_NAME               0 (x)\n",
      "              6 JUMP_BACKWARD            3 (to 2)\n"
     ]
    }
   ],
   "source": [
    "#RULE 2: Jumps makes the sequence non-linear\n",
    "#technically a JUMP instruction is simply telling the computer to process a different instruction in the sequence. \n",
    "#It can be the next one, a previous one, or one in the future.\n",
    "from dis import dis\n",
    "dis(\"while True: x = 10\")"
   ]
  },
  {
   "cell_type": "code",
   "execution_count": 8,
   "id": "e4fffbe5-14bd-47f0-b977-0cabf3f1d596",
   "metadata": {},
   "outputs": [
    {
     "name": "stdout",
     "output_type": "stream",
     "text": [
      "  0           0 RESUME                   0\n",
      "\n",
      "  2           2 LOAD_CONST               0 (-1)\n",
      "              4 STORE_NAME               0 (x)\n",
      "\n",
      "  3           6 LOAD_NAME                0 (x)\n",
      "              8 LOAD_CONST               1 (0)\n",
      "             10 COMPARE_OP               4 (>)\n",
      "             16 POP_JUMP_FORWARD_IF_FALSE     4 (to 26)\n",
      "\n",
      "  4          18 LOAD_CONST               2 (10)\n",
      "             20 STORE_NAME               1 (y)\n",
      "             22 LOAD_CONST               3 (None)\n",
      "             24 RETURN_VALUE\n",
      "\n",
      "  3     >>   26 LOAD_CONST               3 (None)\n",
      "             28 RETURN_VALUE\n"
     ]
    }
   ],
   "source": [
    "#RULE 3: Tests control jumps. \n",
    "\n",
    "dis('''\n",
    "x = -1\n",
    "if x > 0:\n",
    "    y = 10\n",
    "''')"
   ]
  },
  {
   "cell_type": "code",
   "execution_count": null,
   "id": "0e188219-bc1d-4ba9-b1a6-289e4764dfc8",
   "metadata": {},
   "outputs": [],
   "source": [
    "#RULE 4: Storage controls tests"
   ]
  },
  {
   "cell_type": "code",
   "execution_count": 1,
   "id": "a38dcc1d-5ec7-4d49-b31e-f12ea370aa31",
   "metadata": {},
   "outputs": [
    {
     "name": "stdout",
     "output_type": "stream",
     "text": [
      "  0           0 RESUME                   0\n",
      "\n",
      "  1           2 PUSH_NULL\n",
      "              4 LOAD_NAME                0 (input)\n",
      "              6 LOAD_CONST               0 ('Yes? ')\n",
      "              8 PRECALL                  1\n",
      "             12 CALL                     1\n",
      "             22 RETURN_VALUE\n"
     ]
    }
   ],
   "source": [
    "#RULE 5: Input/Output controls storage\n",
    "from dis import dis\n",
    "dis(\"input('Yes? ')\")\n"
   ]
  },
  {
   "cell_type": "code",
   "execution_count": 3,
   "id": "56e32eb2-77a7-4a00-aade-46efd5209664",
   "metadata": {},
   "outputs": [
    {
     "name": "stdout",
     "output_type": "stream",
     "text": [
      "True\n"
     ]
    }
   ],
   "source": [
    "x = not False\n",
    "print(x)"
   ]
  },
  {
   "cell_type": "code",
   "execution_count": 4,
   "id": "9b11199b-8afc-4b04-9bc9-863f4319485f",
   "metadata": {},
   "outputs": [
    {
     "name": "stdout",
     "output_type": "stream",
     "text": [
      "True\n"
     ]
    }
   ],
   "source": [
    "x = True or False\n",
    "print(x)"
   ]
  },
  {
   "cell_type": "code",
   "execution_count": null,
   "id": "a5c6ee29-8bb4-45e6-9c9f-eed549aac9a4",
   "metadata": {},
   "outputs": [],
   "source": []
  }
 ],
 "metadata": {
  "kernelspec": {
   "display_name": "Python 3 (ipykernel)",
   "language": "python",
   "name": "python3"
  },
  "language_info": {
   "codemirror_mode": {
    "name": "ipython",
    "version": 3
   },
   "file_extension": ".py",
   "mimetype": "text/x-python",
   "name": "python",
   "nbconvert_exporter": "python",
   "pygments_lexer": "ipython3",
   "version": "3.11.7"
  }
 },
 "nbformat": 4,
 "nbformat_minor": 5
}
