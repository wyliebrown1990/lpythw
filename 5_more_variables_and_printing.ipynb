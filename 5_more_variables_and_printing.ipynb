{
 "cells": [
  {
   "cell_type": "code",
   "execution_count": 15,
   "id": "cee1157f-d19e-4b64-9006-a05ae6f1ff12",
   "metadata": {},
   "outputs": [
    {
     "name": "stdout",
     "output_type": "stream",
     "text": [
      "Let's talk about Zed A. Shaw.\n",
      "He's 187.96 centimeters tall.\n",
      "He's 81.6466266 kilograms heavy.\n",
      "Actually that's not too heavy.\n",
      "He's got Blue eyes and Brown hair.\n",
      "His teeth are usually White depending on the coffee.\n",
      "If I add 35, 187.96, and 81.6466266 I get 304.6066266.\n"
     ]
    }
   ],
   "source": [
    "name = 'Zed A. Shaw'\n",
    "age = 35 # not a lie\n",
    "height = 74 # inches\n",
    "weight = 180 # lbs\n",
    "eye = 'Blue'\n",
    "teeth = 'White'\n",
    "hair = 'Brown'\n",
    "centimeter_conversion = 2.54\n",
    "centimeter_height = height * centimeter_conversion\n",
    "kilogram_conversion = 0.45359237\n",
    "kilogram_weight = weight * kilogram_conversion\n",
    "\n",
    "print(f\"Let's talk about {name}.\")\n",
    "print(f\"He's {centimeter_height} centimeters tall.\")\n",
    "print(f\"He's {kilogram_weight} kilograms heavy.\")\n",
    "print(\"Actually that's not too heavy.\")\n",
    "print(f\"He's got {eye} eyes and {hair} hair.\")\n",
    "print(f\"His teeth are usually {teeth} depending on the coffee.\")\n",
    "\n",
    "#This line is tricky, try to get it exactly right\n",
    "total = age + centimeter_height + kilogram_weight\n",
    "print(f\"If I add {age}, {centimeter_height}, and {kilogram_weight} I get {total}.\")"
   ]
  },
  {
   "cell_type": "code",
   "execution_count": null,
   "id": "04bf733a-ad0f-4059-9a7a-11fdf807f8ac",
   "metadata": {},
   "outputs": [],
   "source": []
  }
 ],
 "metadata": {
  "kernelspec": {
   "display_name": "Python 3 (ipykernel)",
   "language": "python",
   "name": "python3"
  },
  "language_info": {
   "codemirror_mode": {
    "name": "ipython",
    "version": 3
   },
   "file_extension": ".py",
   "mimetype": "text/x-python",
   "name": "python",
   "nbconvert_exporter": "python",
   "pygments_lexer": "ipython3",
   "version": "3.11.7"
  }
 },
 "nbformat": 4,
 "nbformat_minor": 5
}
