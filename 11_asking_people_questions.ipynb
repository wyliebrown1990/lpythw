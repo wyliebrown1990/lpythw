{
 "cells": [
  {
   "cell_type": "code",
   "execution_count": 4,
   "id": "7ad08ff7-f3b2-4244-94a8-fcbfa0180153",
   "metadata": {},
   "outputs": [
    {
     "name": "stdout",
     "output_type": "stream",
     "text": [
      "How old are you? "
     ]
    },
    {
     "name": "stdin",
     "output_type": "stream",
     "text": [
      " 35\n"
     ]
    },
    {
     "name": "stdout",
     "output_type": "stream",
     "text": [
      "How tall are you? "
     ]
    },
    {
     "name": "stdin",
     "output_type": "stream",
     "text": [
      " 35\n"
     ]
    },
    {
     "name": "stdout",
     "output_type": "stream",
     "text": [
      "How much do you weigh? "
     ]
    },
    {
     "name": "stdin",
     "output_type": "stream",
     "text": [
      " 35\n"
     ]
    },
    {
     "name": "stdout",
     "output_type": "stream",
     "text": [
      "So, you're 35 old, 35 tall and 35 heavy.\n"
     ]
    }
   ],
   "source": [
    "#We put a end=' ' at the end of each print line. This tells print to not end the line with a newline character and go to the next line.\n",
    "#In Python, we request user input using the input() function. This set of code is requesting for user input, and will store it in the message variable. Note: Inputs are automatically saved as strings.\n",
    "print(\"How old are you?\", end = ' ')\n",
    "age = input()\n",
    "print(\"How tall are you?\", end = ' ')\n",
    "height = input()\n",
    "print(\"How much do you weigh?\", end = ' ')\n",
    "weight = input()\n",
    "\n",
    "#In Python, the letter 'f' before a string literal indicates an f-string. F-strings provide a way to embed expressions inside string literals, using curly braces {}. When an f-string is prefixed with 'f', Python evaluates the expressions within the curly braces and then replaces the entire expression (including the curly braces and the expression itself) with the result of the evaluation.\n",
    "print(f\"So, you're {age} old, {height} tall and {weight} heavy.\")"
   ]
  },
  {
   "cell_type": "code",
   "execution_count": 14,
   "id": "e09ea3e4-aeab-4a65-a730-baa817dc5fb8",
   "metadata": {},
   "outputs": [
    {
     "name": "stdout",
     "output_type": "stream",
     "text": [
      "What word do you want to multiply? "
     ]
    },
    {
     "name": "stdin",
     "output_type": "stream",
     "text": [
      " moist\n"
     ]
    },
    {
     "name": "stdout",
     "output_type": "stream",
     "text": [
      "So you want to multiply: moist?\n",
      "moistmoistmoistmoistmoistmoistmoistmoistmoistmoist\n"
     ]
    }
   ],
   "source": [
    "#Here are some more tests I'm trying\n",
    "print(\"What word do you want to multiply?\", end = ' ')\n",
    "word = input()\n",
    "\n",
    "print(f\"So you want to multiply: {word}?\")\n",
    "print(word * 10)"
   ]
  },
  {
   "cell_type": "code",
   "execution_count": null,
   "id": "8a5b6288-0349-48ed-8c4e-34a91876c156",
   "metadata": {},
   "outputs": [],
   "source": []
  }
 ],
 "metadata": {
  "kernelspec": {
   "display_name": "Python 3 (ipykernel)",
   "language": "python",
   "name": "python3"
  },
  "language_info": {
   "codemirror_mode": {
    "name": "ipython",
    "version": 3
   },
   "file_extension": ".py",
   "mimetype": "text/x-python",
   "name": "python",
   "nbconvert_exporter": "python",
   "pygments_lexer": "ipython3",
   "version": "3.11.7"
  }
 },
 "nbformat": 4,
 "nbformat_minor": 5
}
